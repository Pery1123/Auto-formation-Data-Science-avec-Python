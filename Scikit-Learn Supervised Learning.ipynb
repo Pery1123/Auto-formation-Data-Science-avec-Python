{
 "cells": [
  {
   "cell_type": "markdown",
   "id": "6603694e",
   "metadata": {},
   "source": [
    "# Machine Learning\n",
    "##### \"Donner à une machine la capacité d'apprendre sans la programmer de façon explicite.\" Arthur Samuel\n",
    "#### C'est dévolopper un modèle mathématique à partir des données expérimentales.\n",
    "### *En ML il ne faut jamais évaluer la performance d'un modèle sur les mêmes données qui ont servi pour l'entraîner (modèle)*. Pour cela, l'entrainement (X_train, y_train) prend 80% de données et les 20% restants vont à l'évaluation (X_test, y_test)."
   ]
  },
  {
   "cell_type": "markdown",
   "id": "0da78e0e",
   "metadata": {},
   "source": [
    "# - **Apprentissage Supervisé**\n",
    "#### La machine réçoit des données caractérisées par des variables x (features) et annotées d'une variable y (label/target). Le but est de prédire y (la cible) en fonction de x (données reçues).\n",
    "##### En fournissant ces données à la machine, on constitue un Dataset(ensemble de données).\n",
    "##### Ensuite on spécifie le type de modèle (linéaire, polynomiale, arbre de décision, réseau de neuronnes) en précisant les hyperparamètres du modèle choisit. Grâce à un algo d'optimisation, la machine trouve les paramètres qui fourniessent les meilleures performances de sur le Dataset. => Phase d'entrainement.\n",
    "##### Une fois cette étape finie, le modèle de ML est prêt à l'utilisation."
   ]
  },
  {
   "cell_type": "markdown",
   "id": "afedf3bd",
   "metadata": {},
   "source": [
    "# Etapes ou Processus avec Scikit-Learn\n",
    "#### 1. Définir le modèle ou sélectionner un estimateur et préciser ces hyperparamètres => model = LinearRegression(\"hyperparams\")\n",
    "#### 2. Entraîner le modèle sur les données x et y (divisées en 2 tableaux Numpy) => model.fit(x, y)\n",
    "#### 3. Evaluer le modèle => model.score(x, y). *La machine utilise les données x pour faire des prédictions et les comparer aux données y présentes dans la méthode*\n",
    "#### 4. Utiliser le modèle pour  prédire => model.predict(x)"
   ]
  },
  {
   "cell_type": "markdown",
   "id": "6166a39d",
   "metadata": {},
   "source": [
    "# 1. Régression Linéaire"
   ]
  },
  {
   "cell_type": "code",
   "execution_count": 1,
   "id": "771fb5b5",
   "metadata": {},
   "outputs": [],
   "source": [
    "import numpy as np\n",
    "import matplotlib.pyplot as plt"
   ]
  },
  {
   "cell_type": "code",
   "execution_count": 2,
   "id": "c30d73e6",
   "metadata": {},
   "outputs": [],
   "source": [
    "# Fixer les valeurs\n",
    "np.random.seed(0)\n",
    "# Créer 100 examples\n",
    "m = 100\n",
    "\n",
    "# Création de deux tableaux à deux dimension\n",
    "# 100 éléments entre 0 et 10\n",
    "X = np.linspace(0, 10, m).reshape(m, 1)\n",
    "y = X + np.random.randn(m, 1)"
   ]
  },
  {
   "cell_type": "code",
   "execution_count": 3,
   "id": "8efe444d",
   "metadata": {},
   "outputs": [
    {
     "data": {
      "image/png": "[encoded data removed]",
      "text/plain": [
       "<Figure size 576x432 with 1 Axes>"
      ]
     },
     "metadata": {
      "needs_background": "light"
     },
     "output_type": "display_data"
    }
   ],
   "source": [
    "# Visualiser les données\n",
    "plt.figure(figsize=(8, 6))\n",
    "# X en fonction de y\n",
    "plt.scatter(X, y)\n",
    "plt.show()"
   ]
  },
  {
   "cell_type": "code",
   "execution_count": 4,
   "id": "bd8b91cb",
   "metadata": {},
   "outputs": [],
   "source": [
    "# Développer un modèle de régression linéaire\n",
    "from sklearn.linear_model import LinearRegression"
   ]
  },
  {
   "cell_type": "code",
   "execution_count": 5,
   "id": "57825ed5",
   "metadata": {},
   "outputs": [
    {
     "data": {
      "text/plain": [
       "0.8881140743377214"
      ]
     },
     "execution_count": 5,
     "metadata": {},
     "output_type": "execute_result"
    }
   ],
   "source": [
    "# Création de l'objet de la classe LinearRegression\n",
    "model = LinearRegression() # LReg implémente la méthode des moindres carrés qui n'utilise pas d'hyperparams\n",
    "# Entrainement le modèle sur les donnés X et y\n",
    "model.fit(X, y)\n",
    "# Evaluetion du modèle sur les mêmes données X et y\n",
    "model.score(X, y) # Ici c'est le coéfficient de détermination (R² de la méthode des moindres carrés) qui est calculé"
   ]
  },
  {
   "cell_type": "code",
   "execution_count": 6,
   "id": "a39a1427",
   "metadata": {},
   "outputs": [
    {
     "data": {
      "image/png": "[encoded data removed]",
      "text/plain": [
       "<Figure size 576x432 with 1 Axes>"
      ]
     },
     "metadata": {
      "needs_background": "light"
     },
     "output_type": "display_data"
    }
   ],
   "source": [
    "# Faire des prédictions sur le modèle en fonction des données de X\n",
    "predictions = model.predict(X)\n",
    "\n",
    "# Observation de ces prédictions avec plt\n",
    "plt.figure(figsize=(8, 6))\n",
    "# Afficher les données avant la prédiction\n",
    "plt.scatter(X, y)\n",
    "# Afficher les prédictions\n",
    "plt.plot(X, predictions, c=\"r\", lw=3)\n",
    "plt.show()"
   ]
  },
  {
   "cell_type": "markdown",
   "id": "305abfca",
   "metadata": {},
   "source": [
    "## Survivants du naufrage de titanic\n",
    "##### Savoir si une personne untelle en fonction de son âge, son sex et de la classe dans laquelle elle voyageait pouvait ou ne pas survivre à ce naufrage"
   ]
  },
  {
   "cell_type": "markdown",
   "id": "a22a9f81",
   "metadata": {},
   "source": [
    "# Problème de Classification"
   ]
  },
  {
   "cell_type": "code",
   "execution_count": 7,
   "id": "a8530c92",
   "metadata": {},
   "outputs": [],
   "source": [
    "import pandas as pd\n",
    "import seaborn as sns"
   ]
  },
  {
   "cell_type": "code",
   "execution_count": 8,
   "id": "bf63c875",
   "metadata": {},
   "outputs": [
    {
     "data": {
      "text/html": [
       "<div>\n",
       "<style scoped>\n",
       "    .dataframe tbody tr th:only-of-type {\n",
       "        vertical-align: middle;\n",
       "    }\n",
       "\n",
       "    .dataframe tbody tr th {\n",
       "        vertical-align: top;\n",
       "    }\n",
       "\n",
       "    .dataframe thead th {\n",
       "        text-align: right;\n",
       "    }\n",
       "</style>\n",
       "<table border=\"1\" class=\"dataframe\">\n",
       "  <thead>\n",
       "    <tr style=\"text-align: right;\">\n",
       "      <th></th>\n",
       "      <th>survived</th>\n",
       "      <th>pclass</th>\n",
       "      <th>sex</th>\n",
       "      <th>age</th>\n",
       "      <th>sibsp</th>\n",
       "      <th>parch</th>\n",
       "      <th>fare</th>\n",
       "      <th>embarked</th>\n",
       "      <th>class</th>\n",
       "      <th>who</th>\n",
       "      <th>adult_male</th>\n",
       "      <th>deck</th>\n",
       "      <th>embark_town</th>\n",
       "      <th>alive</th>\n",
       "      <th>alone</th>\n",
       "    </tr>\n",
       "  </thead>\n",
       "  <tbody>\n",
       "    <tr>\n",
       "      <th>0</th>\n",
       "      <td>0</td>\n",
       "      <td>3</td>\n",
       "      <td>male</td>\n",
       "      <td>22.0</td>\n",
       "      <td>1</td>\n",
       "      <td>0</td>\n",
       "      <td>7.2500</td>\n",
       "      <td>S</td>\n",
       "      <td>Third</td>\n",
       "      <td>man</td>\n",
       "      <td>True</td>\n",
       "      <td>NaN</td>\n",
       "      <td>Southampton</td>\n",
       "      <td>no</td>\n",
       "      <td>False</td>\n",
       "    </tr>\n",
       "    <tr>\n",
       "      <th>1</th>\n",
       "      <td>1</td>\n",
       "      <td>1</td>\n",
       "      <td>female</td>\n",
       "      <td>38.0</td>\n",
       "      <td>1</td>\n",
       "      <td>0</td>\n",
       "      <td>71.2833</td>\n",
       "      <td>C</td>\n",
       "      <td>First</td>\n",
       "      <td>woman</td>\n",
       "      <td>False</td>\n",
       "      <td>C</td>\n",
       "      <td>Cherbourg</td>\n",
       "      <td>yes</td>\n",
       "      <td>False</td>\n",
       "    </tr>\n",
       "    <tr>\n",
       "      <th>2</th>\n",
       "      <td>1</td>\n",
       "      <td>3</td>\n",
       "      <td>female</td>\n",
       "      <td>26.0</td>\n",
       "      <td>0</td>\n",
       "      <td>0</td>\n",
       "      <td>7.9250</td>\n",
       "      <td>S</td>\n",
       "      <td>Third</td>\n",
       "      <td>woman</td>\n",
       "      <td>False</td>\n",
       "      <td>NaN</td>\n",
       "      <td>Southampton</td>\n",
       "      <td>yes</td>\n",
       "      <td>True</td>\n",
       "    </tr>\n",
       "    <tr>\n",
       "      <th>3</th>\n",
       "      <td>1</td>\n",
       "      <td>1</td>\n",
       "      <td>female</td>\n",
       "      <td>35.0</td>\n",
       "      <td>1</td>\n",
       "      <td>0</td>\n",
       "      <td>53.1000</td>\n",
       "      <td>S</td>\n",
       "      <td>First</td>\n",
       "      <td>woman</td>\n",
       "      <td>False</td>\n",
       "      <td>C</td>\n",
       "      <td>Southampton</td>\n",
       "      <td>yes</td>\n",
       "      <td>False</td>\n",
       "    </tr>\n",
       "    <tr>\n",
       "      <th>4</th>\n",
       "      <td>0</td>\n",
       "      <td>3</td>\n",
       "      <td>male</td>\n",
       "      <td>35.0</td>\n",
       "      <td>0</td>\n",
       "      <td>0</td>\n",
       "      <td>8.0500</td>\n",
       "      <td>S</td>\n",
       "      <td>Third</td>\n",
       "      <td>man</td>\n",
       "      <td>True</td>\n",
       "      <td>NaN</td>\n",
       "      <td>Southampton</td>\n",
       "      <td>no</td>\n",
       "      <td>True</td>\n",
       "    </tr>\n",
       "  </tbody>\n",
       "</table>\n",
       "</div>"
      ],
      "text/plain": [
       "   survived  pclass     sex   age  sibsp  parch     fare embarked  class  \\\n",
       "0         0       3    male  22.0      1      0   7.2500        S  Third   \n",
       "1         1       1  female  38.0      1      0  71.2833        C  First   \n",
       "2         1       3  female  26.0      0      0   7.9250        S  Third   \n",
       "3         1       1  female  35.0      1      0  53.1000        S  First   \n",
       "4         0       3    male  35.0      0      0   8.0500        S  Third   \n",
       "\n",
       "     who  adult_male deck  embark_town alive  alone  \n",
       "0    man        True  NaN  Southampton    no  False  \n",
       "1  woman       False    C    Cherbourg   yes  False  \n",
       "2  woman       False  NaN  Southampton   yes   True  \n",
       "3  woman       False    C  Southampton   yes  False  \n",
       "4    man        True  NaN  Southampton    no   True  "
      ]
     },
     "execution_count": 8,
     "metadata": {},
     "output_type": "execute_result"
    }
   ],
   "source": [
    "# Charger le Dataset\n",
    "titanic = sns.load_dataset(\"titanic\")\n",
    "# Afficher la taille du Dataset\n",
    "titanic.shape\n",
    "# Afficher les 1ères données\n",
    "titanic.head()"
   ]
  },
  {
   "cell_type": "code",
   "execution_count": 9,
   "id": "238a161a",
   "metadata": {},
   "outputs": [
    {
     "data": {
      "text/html": [
       "<div>\n",
       "<style scoped>\n",
       "    .dataframe tbody tr th:only-of-type {\n",
       "        vertical-align: middle;\n",
       "    }\n",
       "\n",
       "    .dataframe tbody tr th {\n",
       "        vertical-align: top;\n",
       "    }\n",
       "\n",
       "    .dataframe thead th {\n",
       "        text-align: right;\n",
       "    }\n",
       "</style>\n",
       "<table border=\"1\" class=\"dataframe\">\n",
       "  <thead>\n",
       "    <tr style=\"text-align: right;\">\n",
       "      <th></th>\n",
       "      <th>survived</th>\n",
       "      <th>pclass</th>\n",
       "      <th>sex</th>\n",
       "      <th>age</th>\n",
       "    </tr>\n",
       "  </thead>\n",
       "  <tbody>\n",
       "    <tr>\n",
       "      <th>0</th>\n",
       "      <td>0</td>\n",
       "      <td>3</td>\n",
       "      <td>0</td>\n",
       "      <td>22.0</td>\n",
       "    </tr>\n",
       "    <tr>\n",
       "      <th>1</th>\n",
       "      <td>1</td>\n",
       "      <td>1</td>\n",
       "      <td>1</td>\n",
       "      <td>38.0</td>\n",
       "    </tr>\n",
       "    <tr>\n",
       "      <th>2</th>\n",
       "      <td>1</td>\n",
       "      <td>3</td>\n",
       "      <td>1</td>\n",
       "      <td>26.0</td>\n",
       "    </tr>\n",
       "    <tr>\n",
       "      <th>3</th>\n",
       "      <td>1</td>\n",
       "      <td>1</td>\n",
       "      <td>1</td>\n",
       "      <td>35.0</td>\n",
       "    </tr>\n",
       "    <tr>\n",
       "      <th>4</th>\n",
       "      <td>0</td>\n",
       "      <td>3</td>\n",
       "      <td>0</td>\n",
       "      <td>35.0</td>\n",
       "    </tr>\n",
       "  </tbody>\n",
       "</table>\n",
       "</div>"
      ],
      "text/plain": [
       "   survived  pclass  sex   age\n",
       "0         0       3    0  22.0\n",
       "1         1       1    1  38.0\n",
       "2         1       3    1  26.0\n",
       "3         1       1    1  35.0\n",
       "4         0       3    0  35.0"
      ]
     },
     "execution_count": 9,
     "metadata": {},
     "output_type": "execute_result"
    }
   ],
   "source": [
    "# Filtrer le Dataset en sélectionant uniquement que les colonnes sur lesquelles nous allons travailler\n",
    "titanic = titanic[[\"survived\", \"pclass\", \"sex\", \"age\"]]\n",
    "# Supprimer les données manquantes\n",
    "titanic.dropna(axis=0, inplace=True)\n",
    "# Remplacer les valeurs de sex par 0 et 1 désignant male et female pour n'avoir que des données numériques\n",
    "titanic[\"sex\"].replace([\"male\", \"female\"], [0, 1], inplace=True)\n",
    "\n",
    "# Afficher la tête du Dataset\n",
    "titanic.head()"
   ]
  },
  {
   "cell_type": "code",
   "execution_count": 10,
   "id": "5d435566",
   "metadata": {},
   "outputs": [],
   "source": [
    "# importer le modèle de classification\n",
    "from sklearn.neighbors import KNeighborsClassifier"
   ]
  },
  {
   "cell_type": "code",
   "execution_count": 11,
   "id": "e865a09c",
   "metadata": {},
   "outputs": [],
   "source": [
    "# Définir le modèle (initilialisation de l'instance model de la classe KNeighborsClassifier())\n",
    "model = KNeighborsClassifier()\n",
    "\n",
    "# Données de prédiction : diviser la dataset en deux parties\n",
    "X = titanic.drop(\"survived\", axis=1) # Toutes les colonnes sauf celle de \"survived\"\n",
    "y = titanic[\"survived\"]"
   ]
  },
  {
   "cell_type": "code",
   "execution_count": 12,
   "id": "ef8764af",
   "metadata": {},
   "outputs": [
    {
     "data": {
      "text/plain": [
       "0.8417366946778712"
      ]
     },
     "execution_count": 12,
     "metadata": {},
     "output_type": "execute_result"
    }
   ],
   "source": [
    "# Entraîner le modèle sur les données X et y\n",
    "model.fit(X, y)\n",
    "# Evaluer la performance du modèle créé\n",
    "model.score(X, y)"
   ]
  },
  {
   "cell_type": "code",
   "execution_count": 13,
   "id": "1703c55a",
   "metadata": {},
   "outputs": [],
   "source": [
    "# Fonction de prédiction\n",
    "def survivre(modele, pclass=2, sex=0, age=25):\n",
    "    \n",
    "    # Tableau Numpy à deux dimensions contenant tous ces éléments dans le bon ordre\n",
    "    x = np.array([pclass, sex, age]).reshape(1, 3)\n",
    "    # Afficher les résultats de la prédiction sur x\n",
    "    print(modele.predict(x))\n",
    "    # Afficher le taux d'appartenance à cette classe (vie ou mort)\n",
    "    print(modele.predict_proba(x))"
   ]
  },
  {
   "cell_type": "code",
   "execution_count": 14,
   "id": "72379851",
   "metadata": {},
   "outputs": [
    {
     "name": "stdout",
     "output_type": "stream",
     "text": [
      "[0]\n",
      "[[1. 0.]]\n"
     ]
    },
    {
     "name": "stderr",
     "output_type": "stream",
     "text": [
      "C:\\anaconda3\\lib\\site-packages\\sklearn\\base.py:450: UserWarning: X does not have valid feature names, but KNeighborsClassifier was fitted with feature names\n",
      "  warnings.warn(\n",
      "C:\\anaconda3\\lib\\site-packages\\sklearn\\base.py:450: UserWarning: X does not have valid feature names, but KNeighborsClassifier was fitted with feature names\n",
      "  warnings.warn(\n"
     ]
    }
   ],
   "source": [
    "# survivre au naufrage => [1]\n",
    "# mort au naufrage => [0]\n",
    "survivre(model)"
   ]
  },
  {
   "cell_type": "code",
   "execution_count": 15,
   "id": "9a44f0e8",
   "metadata": {},
   "outputs": [
    {
     "name": "stdout",
     "output_type": "stream",
     "text": [
      "Meilleur score :  1\n"
     ]
    },
    {
     "data": {
      "image/png": "[encoded data removed]",
      "text/plain": [
       "<Figure size 720x432 with 1 Axes>"
      ]
     },
     "metadata": {
      "needs_background": "light"
     },
     "output_type": "display_data"
    }
   ],
   "source": [
    "# Liste de score\n",
    "score = []\n",
    "# Nbre de meilleurs voisins\n",
    "best_neighbors = 1\n",
    "# Meilleur score\n",
    "best_score = 0\n",
    "\n",
    "for k in range(best_neighbors, 40):\n",
    "    \n",
    "    # Définir le modèle avec le nbre de plus proches voisins\n",
    "    model = KNeighborsClassifier(n_neighbors=k)\n",
    "    # Entrainer le modèle\n",
    "    model.fit(X, y)\n",
    "    # Ajouter les données d'évaluation dans le dict\n",
    "    score.append(model.score(X, y))\n",
    "    \n",
    "    # Vérification\n",
    "    if best_score < model.score(X, y):\n",
    "        # Le meilleur voisin prend celui-ci\n",
    "        best_neighbors = k\n",
    "        best_score = model.score(X, y)\n",
    "\n",
    "print(\"Meilleur score : \", best_neighbors)\n",
    "plt.figure(figsize=(10, 6))\n",
    "plt.plot(score)\n",
    "plt.show()"
   ]
  },
  {
   "cell_type": "code",
   "execution_count": 16,
   "id": "4eccc61b",
   "metadata": {},
   "outputs": [],
   "source": [
    "# Le Dataset des fleurs d'iris\n",
    "from sklearn.datasets import load_iris"
   ]
  },
  {
   "cell_type": "code",
   "execution_count": 17,
   "id": "d6ba4786",
   "metadata": {},
   "outputs": [
    {
     "name": "stdout",
     "output_type": "stream",
     "text": [
      "(150, 4)\n"
     ]
    }
   ],
   "source": [
    "# Instance de la classe load_iris()\n",
    "iris = load_iris()\n",
    "\n",
    "# Les données (label)\n",
    "X = iris.data\n",
    "# Les cibles (feature/target)\n",
    "y = iris.target\n",
    "\n",
    "# Afficher la taille des données\n",
    "print(X.shape)"
   ]
  },
  {
   "cell_type": "code",
   "execution_count": 18,
   "id": "097e0ad8",
   "metadata": {},
   "outputs": [
    {
     "data": {
      "image/png": "[encoded data removed]",
      "text/plain": [
       "<Figure size 720x576 with 1 Axes>"
      ]
     },
     "metadata": {
      "needs_background": "light"
     },
     "output_type": "display_data"
    }
   ],
   "source": [
    "plt.figure(figsize=(10, 8))\n",
    "# Visualiser les deux premières données en fonction de leur cible\n",
    "plt.scatter(X[:, 0], X[:, 1], c=y, s=70, alpha=0.8)\n",
    "plt.show()"
   ]
  },
  {
   "cell_type": "code",
   "execution_count": 19,
   "id": "b9e0533c",
   "metadata": {},
   "outputs": [],
   "source": [
    "# Diviser le Dataset\n",
    "from sklearn.model_selection import train_test_split"
   ]
  },
  {
   "cell_type": "code",
   "execution_count": 20,
   "id": "11f64a14",
   "metadata": {},
   "outputs": [
    {
     "name": "stdout",
     "output_type": "stream",
     "text": [
      "Train set : (120, 4)\n",
      "Test set : (30, 4)\n"
     ]
    }
   ],
   "source": [
    "# Découpage en données de train et de set\n",
    "X_train, X_test, y_train, y_test = train_test_split(X, y, train_size=0.8)\n",
    "# test_size: le pourcentage des données de test\n",
    "# train_size: le pourcentage des données de train\n",
    "\n",
    "print(\"Train set :\", X_train.shape)\n",
    "print(\"Test set :\", X_test.shape)"
   ]
  },
  {
   "cell_type": "code",
   "execution_count": 21,
   "id": "e9e41ab3",
   "metadata": {},
   "outputs": [
    {
     "data": {
      "image/png": "[encoded data removed]",
      "text/plain": [
       "<Figure size 864x432 with 2 Axes>"
      ]
     },
     "metadata": {
      "needs_background": "light"
     },
     "output_type": "display_data"
    }
   ],
   "source": [
    "# Visualisation des données d'entrainement et d'évaluation\n",
    "plt.figure(figsize=(12, 6))\n",
    "# 1ère sous-figure\n",
    "plt.subplot(121)\n",
    "# Les données d'entrainement en fonction de leur cible et contrôler l'aléatoire avec random_state\n",
    "plt.scatter(X_train[:, 0], X_train[:, 1], s=70, c=y_train, alpha=0.8)\n",
    "plt.title(\"Train set\")\n",
    "# 2ème sous-figure\n",
    "plt.subplot(122)\n",
    "# Les données d'évaluation en fonctio de leur cible\n",
    "plt.scatter(X_test[:, 0], X_test[:, 1], s=70, c=y_test, alpha=0.8)\n",
    "plt.title(\"Test set\")\n",
    "plt.show()"
   ]
  },
  {
   "cell_type": "code",
   "execution_count": 22,
   "id": "db48466a",
   "metadata": {},
   "outputs": [],
   "source": [
    "# Entraîner le modèle de ML\n",
    "# Modèle de classification du plus proche voisin\n",
    "from sklearn.neighbors import KNeighborsClassifier"
   ]
  },
  {
   "cell_type": "code",
   "execution_count": 23,
   "id": "011184e7",
   "metadata": {},
   "outputs": [
    {
     "name": "stdout",
     "output_type": "stream",
     "text": [
      "Train Score : 0.9666666666666667\n"
     ]
    }
   ],
   "source": [
    "# Définir un modèle avec le nombre de voisins\n",
    "model = KNeighborsClassifier(n_neighbors=7)\n",
    "\n",
    "# Entraîner le modèle\n",
    "model.fit(X_train, y_train)\n",
    "# On peut observer le comportement si jamais on évalue ce modèle sur les mêmes données d'entraînement\n",
    "print(\"Train Score :\", model.score(X_train, y_train))"
   ]
  },
  {
   "cell_type": "code",
   "execution_count": 24,
   "id": "2a217adb",
   "metadata": {},
   "outputs": [
    {
     "name": "stdout",
     "output_type": "stream",
     "text": [
      "Test Score : 0.9666666666666667\n"
     ]
    }
   ],
   "source": [
    "# D'après les résultats ci-dessus, on peut observer un très bon pourcentage\n",
    "# Mais qui ne sera pas le cas avec les données d'évaluation\n",
    "# Autrement, cela singifie que notre modèle ne réussira pas à prédire 97% dans le futur\n",
    "print(\"Test Score :\", model.score(X_test, y_test))"
   ]
  },
  {
   "cell_type": "markdown",
   "id": "5268840f",
   "metadata": {},
   "source": [
    "## Validation Set\n",
    "#### Amélioration du modèle"
   ]
  },
  {
   "cell_type": "markdown",
   "id": "5345b6a3",
   "metadata": {},
   "source": [
    "### Cross-Validation\n",
    "##### Cette technique consiste à entrainer puis valider le modèle sur plusieurs découpes possibles du Train Set"
   ]
  },
  {
   "cell_type": "code",
   "execution_count": 25,
   "id": "b29f7fef",
   "metadata": {},
   "outputs": [],
   "source": [
    "from sklearn.model_selection import cross_val_score"
   ]
  },
  {
   "cell_type": "code",
   "execution_count": 26,
   "id": "4931f89a",
   "metadata": {},
   "outputs": [
    {
     "data": {
      "text/plain": [
       "0.9416666666666668"
      ]
     },
     "execution_count": 26,
     "metadata": {},
     "output_type": "execute_result"
    }
   ],
   "source": [
    "# Faire passer le modèle préalablement défini, les données d'entrainement, le nbre de validation(cv)\n",
    "# On peut aussi indiquer le type de métrique à utiliser, ici 'accuracy'\n",
    "cross_val_score(KNeighborsClassifier(5), X_train, y_train, cv=5, scoring=\"accuracy\").mean()"
   ]
  },
  {
   "cell_type": "code",
   "execution_count": 27,
   "id": "f1779329",
   "metadata": {},
   "outputs": [],
   "source": [
    "# Enregistrer chaque score dans une liste\n",
    "val_score = [] # Liste vide\n",
    "for k in range(1, 50):\n",
    "    \n",
    "    # Prendre la moyenne chaque score dont le nbre de plus proches voisins va de 1 à 50\n",
    "    score = cross_val_score(KNeighborsClassifier(k), X_train, y_train, cv=5).mean()\n",
    "    # Ajouter chaque score dans la liste\n",
    "    val_score.append(score)"
   ]
  },
  {
   "cell_type": "code",
   "execution_count": 28,
   "id": "0e2f1402",
   "metadata": {},
   "outputs": [
    {
     "data": {
      "image/png": "[encoded data removed]",
      "text/plain": [
       "<Figure size 720x432 with 1 Axes>"
      ]
     },
     "metadata": {
      "needs_background": "light"
     },
     "output_type": "display_data"
    }
   ],
   "source": [
    "# Visualiser dans un graphique la liste des tous les scores\n",
    "plt.figure(figsize=(10, 6))\n",
    "plt.plot(val_score)\n",
    "plt.show()"
   ]
  },
  {
   "cell_type": "code",
   "execution_count": 29,
   "id": "a8d1fe55",
   "metadata": {},
   "outputs": [],
   "source": [
    "from sklearn.model_selection import validation_curve"
   ]
  },
  {
   "cell_type": "code",
   "execution_count": 30,
   "id": "7920252e",
   "metadata": {},
   "outputs": [
    {
     "ename": "TypeError",
     "evalue": "validation_curve() takes 3 positional arguments but 5 positional arguments (and 1 keyword-only argument) were given",
     "output_type": "error",
     "traceback": [
      "\u001b[1;31m---------------------------------------------------------------------------\u001b[0m",
      "\u001b[1;31mTypeError\u001b[0m                                 Traceback (most recent call last)",
      "\u001b[1;32m~\\AppData\\Local\\Temp/ipykernel_10696/946661141.py\u001b[0m in \u001b[0;36m<module>\u001b[1;34m\u001b[0m\n\u001b[0;32m      8\u001b[0m \u001b[1;33m\u001b[0m\u001b[0m\n\u001b[0;32m      9\u001b[0m \u001b[1;31m# On définit le train et validation scores avec la fonction validation_curve()\u001b[0m\u001b[1;33m\u001b[0m\u001b[1;33m\u001b[0m\u001b[1;33m\u001b[0m\u001b[0m\n\u001b[1;32m---> 10\u001b[1;33m \u001b[0mtrain_score\u001b[0m\u001b[1;33m,\u001b[0m \u001b[0mval_score\u001b[0m \u001b[1;33m=\u001b[0m \u001b[0mvalidation_curve\u001b[0m\u001b[1;33m(\u001b[0m\u001b[0mmodel\u001b[0m\u001b[1;33m,\u001b[0m \u001b[0mX_train\u001b[0m\u001b[1;33m,\u001b[0m \u001b[0my_train\u001b[0m\u001b[1;33m,\u001b[0m \u001b[1;34m\"n_neighbors\"\u001b[0m\u001b[1;33m,\u001b[0m \u001b[0mk\u001b[0m\u001b[1;33m,\u001b[0m \u001b[0mcv\u001b[0m\u001b[1;33m=\u001b[0m\u001b[1;36m5\u001b[0m\u001b[1;33m)\u001b[0m\u001b[1;33m\u001b[0m\u001b[1;33m\u001b[0m\u001b[0m\n\u001b[0m\u001b[0;32m     11\u001b[0m \u001b[1;33m\u001b[0m\u001b[0m\n\u001b[0;32m     12\u001b[0m \u001b[1;33m\u001b[0m\u001b[0m\n",
      "\u001b[1;31mTypeError\u001b[0m: validation_curve() takes 3 positional arguments but 5 positional arguments (and 1 keyword-only argument) were given"
     ]
    }
   ],
   "source": [
    "# Pas besoin de procéder comme ci-dessus pour avoir la valeur moyenne de validation (découpe)\n",
    "# En effet, sklearn a une fonction \"validation_curve()\" avec laquelle on a le même résultat\n",
    "\n",
    "# Rédéfinir le modèle, cette fois-ci sans préciser explicitement le nbre de plus proches voisins\n",
    "model = KNeighborsClassifier()\n",
    "# Le nbre de voisins comme tableau Numpy de 49 éléments\n",
    "k = np.arange(1, 50)\n",
    "\n",
    "# On définit le train et validation scores avec la fonction validation_curve()\n",
    "train_score, val_score = validation_curve(model, X_train, y_train, \"n_neighbors\", k, cv=5)\n",
    "\n",
    "\n",
    "\n",
    "plt.figure(figsize=(10, 6))\n",
    "# Visualiser la moyenne de tous les scores de validation sur l'axe 1 en fonction du nbre de voisins\n",
    "plt.plot(k, val_score.mean(axis=1), label=\"Validation\")\n",
    "# Visualiser la moyenne de toutes les valeurs train sur l'axe 1 en fonction du nbre de voisins\n",
    "plt.plot(k,  train_score.mean(axis=1), label=\"Train\")\n",
    "plt.title(\"SCORE EN FONCTION DU NOMBRE DE VOISIN\")\n",
    "# L'axe x est celui de tous les scores\n",
    "plt.xlabel(\"Scores\")\n",
    "# L'axe y est celui du nbre de voisins\n",
    "plt.ylabel(\"n_neighbors\")\n",
    "plt.legend()\n",
    "plt.show()"
   ]
  },
  {
   "cell_type": "markdown",
   "id": "779598ae",
   "metadata": {},
   "source": [
    "# GridSearchCV\n",
    "#### Cela permet de trouver le modèle avec de meilleurs hyperparamètres en comparant les différentes performances de chaque combinaison grâce à la technique de cross-validation"
   ]
  },
  {
   "cell_type": "code",
   "execution_count": 31,
   "id": "0c6f94e8",
   "metadata": {},
   "outputs": [],
   "source": [
    "from sklearn.model_selection import GridSearchCV"
   ]
  },
  {
   "cell_type": "code",
   "execution_count": 32,
   "id": "d6bd3c92",
   "metadata": {},
   "outputs": [],
   "source": [
    "# Dictionnaire d'hyperparamètres\n",
    "grid_params = {\"n_neighbors\": np.arange(1, 20), \"metric\": [\"euclidean\", \"manhattan\"]}"
   ]
  },
  {
   "cell_type": "code",
   "execution_count": 33,
   "id": "89100258",
   "metadata": {},
   "outputs": [
    {
     "data": {
      "text/plain": [
       "GridSearchCV(cv=5, estimator=KNeighborsClassifier(),\n",
       "             param_grid={'metric': ['euclidean', 'manhattan'],\n",
       "                         'n_neighbors': array([ 1,  2,  3,  4,  5,  6,  7,  8,  9, 10, 11, 12, 13, 14, 15, 16, 17,\n",
       "       18, 19])})"
      ]
     },
     "execution_count": 33,
     "metadata": {},
     "output_type": "execute_result"
    }
   ],
   "source": [
    "model = KNeighborsClassifier()\n",
    "# Faire passer le modèle avec le dict d'hyperparams et le nbre de cross-validation\n",
    "grid = GridSearchCV(model, grid_params, cv=5)\n",
    "\n",
    "# Entrainer le modèle en fonction des données de train\n",
    "grid.fit(X_train, y_train)"
   ]
  },
  {
   "cell_type": "code",
   "execution_count": 34,
   "id": "7bd21e14",
   "metadata": {},
   "outputs": [
    {
     "data": {
      "text/plain": [
       "0.9666666666666668"
      ]
     },
     "execution_count": 34,
     "metadata": {},
     "output_type": "execute_result"
    }
   ],
   "source": [
    "# Afficher le modèle avec le meilleur score parmi tous les modèles\n",
    "grid.best_score_"
   ]
  },
  {
   "cell_type": "code",
   "execution_count": 35,
   "id": "c26c04c7",
   "metadata": {},
   "outputs": [
    {
     "data": {
      "text/plain": [
       "{'metric': 'euclidean', 'n_neighbors': 11}"
      ]
     },
     "execution_count": 35,
     "metadata": {},
     "output_type": "execute_result"
    }
   ],
   "source": [
    "# Voir les meilleurs hyperparams\n",
    "grid.best_params_"
   ]
  },
  {
   "cell_type": "code",
   "execution_count": 36,
   "id": "686cdf02",
   "metadata": {},
   "outputs": [],
   "source": [
    "# On sauvegarde ce modèle\n",
    "model = grid.best_estimator_"
   ]
  },
  {
   "cell_type": "code",
   "execution_count": 37,
   "id": "74ba9739",
   "metadata": {},
   "outputs": [
    {
     "data": {
      "text/plain": [
       "1.0"
      ]
     },
     "execution_count": 37,
     "metadata": {},
     "output_type": "execute_result"
    }
   ],
   "source": [
    "# Evaluation du modèle pour en savoir plus sur sa performance dans la vie réelle\n",
    "model.score(X_test, y_test)"
   ]
  },
  {
   "cell_type": "code",
   "execution_count": 38,
   "id": "8fc6fdad",
   "metadata": {},
   "outputs": [],
   "source": [
    "# Utilisation d'une autre mésure pour évaluer ou tester la performance du modèle\n",
    "from sklearn.metrics import confusion_matrix"
   ]
  },
  {
   "cell_type": "code",
   "execution_count": 39,
   "id": "e6089144",
   "metadata": {},
   "outputs": [],
   "source": [
    "# On fait passer les vraies données y_test, \n",
    "erreurs = confusion_matrix(y_test, model.predict(X_test)) # Pour bien comprendre les erreurs dans le modèle"
   ]
  },
  {
   "cell_type": "code",
   "execution_count": 40,
   "id": "687d626a",
   "metadata": {},
   "outputs": [
    {
     "data": {
      "text/plain": [
       "array([[ 7,  0,  0],\n",
       "       [ 0, 13,  0],\n",
       "       [ 0,  0, 10]], dtype=int64)"
      ]
     },
     "execution_count": 40,
     "metadata": {},
     "output_type": "execute_result"
    }
   ],
   "source": [
    "erreurs"
   ]
  },
  {
   "cell_type": "markdown",
   "id": "4a7a59be",
   "metadata": {},
   "source": [
    "# Courbes d'apprentissage - Learning_Curve\n",
    "#### Elles montrent l'évolution des performances du modèle en fonction de la quantité de données qui lui est fournie => *Plus il y a de données, plus on atteint la performance mais attention, cette performance a toujours un plafond*"
   ]
  },
  {
   "cell_type": "code",
   "execution_count": 41,
   "id": "afdefd1f",
   "metadata": {},
   "outputs": [],
   "source": [
    "from sklearn.model_selection import learning_curve"
   ]
  },
  {
   "cell_type": "code",
   "execution_count": 42,
   "id": "b29170c9",
   "metadata": {},
   "outputs": [
    {
     "name": "stdout",
     "output_type": "stream",
     "text": [
      "[14 24 34 45 55 65 75 85 96]\n"
     ]
    }
   ],
   "source": [
    "N, train_score, val_score = learning_curve(model, X_train, y_train, \n",
    "                                           train_sizes=np.linspace(0.15, 1.0, 9), cv=5)\n",
    "\n",
    "print(N)"
   ]
  },
  {
   "cell_type": "code",
   "execution_count": 43,
   "id": "1cfca24c",
   "metadata": {},
   "outputs": [
    {
     "data": {
      "image/png": "[encoded data removed]",
      "text/plain": [
       "<Figure size 720x432 with 1 Axes>"
      ]
     },
     "metadata": {
      "needs_background": "light"
     },
     "output_type": "display_data"
    }
   ],
   "source": [
    "plt.figure(figsize=(10, 6))\n",
    "# Afficher le nombre de points en fonction de la moyenne de valeurs de train score\n",
    "plt.plot(N, train_score.mean(axis=1), label=\"train\")\n",
    "# Afficher le nombre de points en fonction de la moyenne des valeurs de validation\n",
    "plt.plot(N, val_score.mean(axis=1), label=\"validation\")\n",
    "plt.xlabel(\"pourcentage de train\")\n",
    "plt.ylabel(\"validation\")\n",
    "plt.title(\"Evolution des Performances du Modèle\")\n",
    "plt.legend()\n",
    "plt.show()"
   ]
  },
  {
   "cell_type": "markdown",
   "id": "ae369441",
   "metadata": {},
   "source": [
    "## Data Pre-Processing\n",
    "#### *Si vous ne maîtrisez pas cette étape, alors vous ne serez jamais un bon Data Scientist*. En effet, le Data Pre-Processing représente jusqu'à 80% du travail de tout Data Scientist afin de développer des modèles avec de très bonnes performances !\n",
    "#### Il faut noter que les algos de ML apprennent à partir des données qui leur sont fournies. Alors il faut se rassurer que ces données soient de bonnes qualité (elles ne sont pas eronnées, incomplètes, ni redondantes) sinon, le modèle ne sera pas non plus optimal et donc pas robuste. Pour ce faire, il faut nettoyer, filtrer, et normaliser ces données. \n",
    "#### Etapes de Pre-Processing :\n",
    "1. **Encondage :** Convertir les données qualitatives (sous forme de mots) en valeurs numériques.\n",
    "2. **Normalisation :** Elle consiste à mettre sur une même échelle toutes les données quantitatives.\n",
    "3. **Imputation :** Permettant de remplacer les données manquantes par certaines valeurs statistiques.\n",
    "4. **Sélection de variable :** Utilisant les test de statistique pour sélectionner les variables les plus utiles au développement du modèle.\n",
    "5. **Extraction de Caractéristiques :** Elle consiste à générer de nouvelles variables à partir d'informations cachée dans le Dataset.\n",
    "#### Modules Scikit-Learn pour cette tâche : \n",
    "- **sklearn.preprocessing (étapes 1 - 2)**\n",
    "- **sklearn.impute (étape 3)**\n",
    "- **sklearn.feature_selection (étape 4)**\n",
    "- **sklearn.feature_extraction (étape 5)**"
   ]
  },
  {
   "cell_type": "markdown",
   "id": "1fd87188",
   "metadata": {},
   "source": [
    "## 1. Encodage :\n",
    "#### *Convertir les données qualitatives en données quantitatives (décimales numériques)*\n",
    "## sklearn.preprocessing\n",
    "#### TRANSFORMERS"
   ]
  },
  {
   "cell_type": "code",
   "execution_count": 44,
   "id": "b9cd5fb7",
   "metadata": {},
   "outputs": [],
   "source": [
    "from sklearn.preprocessing import LabelEncoder"
   ]
  },
  {
   "cell_type": "code",
   "execution_count": 45,
   "id": "1e898cfc",
   "metadata": {},
   "outputs": [],
   "source": [
    "# Instancier l'objet de la classe LabelEncoder\n",
    "transformer = LabelEncoder()"
   ]
  },
  {
   "cell_type": "code",
   "execution_count": 46,
   "id": "2c1487fb",
   "metadata": {},
   "outputs": [],
   "source": [
    "# Données avec Numpy\n",
    "X = np.array([\"Chien\", \n",
    "              \"Chat\", \n",
    "              \"Chien\", \n",
    "              \"Oiseau\", \n",
    "              \"Chenille\"])"
   ]
  },
  {
   "cell_type": "code",
   "execution_count": 47,
   "id": "04568d10",
   "metadata": {},
   "outputs": [
    {
     "data": {
      "text/plain": [
       "LabelEncoder()"
      ]
     },
     "execution_count": 47,
     "metadata": {},
     "output_type": "execute_result"
    }
   ],
   "source": [
    "# Fonction de transformation en analysant les données de Train_set\n",
    "transformer.fit(X)"
   ]
  },
  {
   "cell_type": "code",
   "execution_count": 48,
   "id": "ea04d417",
   "metadata": {},
   "outputs": [
    {
     "data": {
      "text/plain": [
       "array([2, 0, 2, 3, 1])"
      ]
     },
     "execution_count": 48,
     "metadata": {},
     "output_type": "execute_result"
    }
   ],
   "source": [
    "# Application de la fonction sur toutes les données qui lui sont fournies\n",
    "transformer.transform(X)"
   ]
  },
  {
   "cell_type": "code",
   "execution_count": 49,
   "id": "7944ad8e",
   "metadata": {},
   "outputs": [
    {
     "data": {
      "text/plain": [
       "array([2, 0, 2, 3, 1], dtype=int64)"
      ]
     },
     "execution_count": 49,
     "metadata": {},
     "output_type": "execute_result"
    }
   ],
   "source": [
    "# Mais les deux opérations dessus peuvent être faites toutes les deux en même temps\n",
    "transformer.fit_transform(X)"
   ]
  },
  {
   "cell_type": "markdown",
   "id": "75557833",
   "metadata": {},
   "source": [
    "### En combinant transformer et estimator on obtient une pipeline (chaîne de transformation)"
   ]
  },
  {
   "cell_type": "markdown",
   "id": "4477117e",
   "metadata": {},
   "source": [
    "### Encodage Ordinal :\n",
    "#### LabelEncoder\n",
    "##### Cet encodeur ne permet de traiter qu'une seule colonne (un seul encodeur)"
   ]
  },
  {
   "cell_type": "code",
   "execution_count": 50,
   "id": "a849930f",
   "metadata": {},
   "outputs": [],
   "source": [
    "y = np.array([\"chien\", \"chat\", \"lapin\", \"oiseau\", \"chien\"])"
   ]
  },
  {
   "cell_type": "code",
   "execution_count": 51,
   "id": "7124991b",
   "metadata": {},
   "outputs": [
    {
     "data": {
      "text/plain": [
       "LabelEncoder()"
      ]
     },
     "execution_count": 51,
     "metadata": {},
     "output_type": "execute_result"
    }
   ],
   "source": [
    "# Créer l'objet de la classe LabelEncoder\n",
    "encodeur = LabelEncoder()\n",
    "\n",
    "# Entrainer l'encodeur sur la colonne y\n",
    "encodeur.fit(y)"
   ]
  },
  {
   "cell_type": "code",
   "execution_count": 52,
   "id": "f4151d4d",
   "metadata": {},
   "outputs": [
    {
     "data": {
      "text/plain": [
       "array(['chat', 'chien', 'lapin', 'oiseau'], dtype='<U6')"
      ]
     },
     "execution_count": 52,
     "metadata": {},
     "output_type": "execute_result"
    }
   ],
   "source": [
    "# Classe de l'encodeur\n",
    "encodeur.classes_"
   ]
  },
  {
   "cell_type": "code",
   "execution_count": 53,
   "id": "fd226e2e",
   "metadata": {},
   "outputs": [
    {
     "data": {
      "text/plain": [
       "array([1, 0, 2, 3, 1])"
      ]
     },
     "execution_count": 53,
     "metadata": {},
     "output_type": "execute_result"
    }
   ],
   "source": [
    "# Transformer les données en données numériques\n",
    "encodeur.transform(y)"
   ]
  },
  {
   "cell_type": "code",
   "execution_count": 54,
   "id": "b779787f",
   "metadata": {},
   "outputs": [
    {
     "data": {
      "text/plain": [
       "array(['chat', 'chien', 'oiseau', 'lapin', 'chat'], dtype='<U6')"
      ]
     },
     "execution_count": 54,
     "metadata": {},
     "output_type": "execute_result"
    }
   ],
   "source": [
    "# Il arrive parfois que l'on veule retrouver les données d'origine afin de savoir dans nos \n",
    "# prédictions les correspondances exactes car on ne pourra pas deviner avec des valeurs 0,1,2...\n",
    "# de quel animal s'agit-il par exemple donc il faut retrouver les données d'avant transformation\n",
    "# Pour cela on doit décoder nos données en appliquant la transformation inverse (inverse_transform)\n",
    "encodeur.inverse_transform(np.array([0, 1, 3, 2, 0]))"
   ]
  },
  {
   "cell_type": "markdown",
   "id": "5e52b643",
   "metadata": {},
   "source": [
    "#### Ordinal Encoder\n",
    "##### Applicable sur plusieurs données, nottament les données de X"
   ]
  },
  {
   "cell_type": "code",
   "execution_count": 55,
   "id": "7ac16825",
   "metadata": {},
   "outputs": [],
   "source": [
    "from sklearn.preprocessing import OrdinalEncoder"
   ]
  },
  {
   "cell_type": "code",
   "execution_count": 56,
   "id": "fa000c48",
   "metadata": {},
   "outputs": [],
   "source": [
    "X = np.array([[\"chien\", \"poils\"],\n",
    "             [\"lapin\", \"poils\"],\n",
    "             [\"oiseau\", \"plumes\"],\n",
    "             [\"chat\", \"poils\"]])"
   ]
  },
  {
   "cell_type": "code",
   "execution_count": 57,
   "id": "2b5c5a82",
   "metadata": {},
   "outputs": [
    {
     "data": {
      "text/plain": [
       "array([[1., 1.],\n",
       "       [2., 1.],\n",
       "       [3., 0.],\n",
       "       [0., 1.]])"
      ]
     },
     "execution_count": 57,
     "metadata": {},
     "output_type": "execute_result"
    }
   ],
   "source": [
    "# Objet de la classe OrdinalEncoder\n",
    "encoder = OrdinalEncoder()\n",
    "\n",
    "# Développer(entrainer) et transformer les données de façon simultanée\n",
    "encoder.fit_transform(X)"
   ]
  },
  {
   "cell_type": "markdown",
   "id": "0cbb9aa7",
   "metadata": {},
   "source": [
    "### Encodage One-Hot :\n",
    "#### LabelBinarizer\n",
    "#### Etant donné que les deux 1ers enodeurs donnent des données numériques sans étiqueter et d'un point de vue aritmétique cela fera la comparaison entre les valeurs numériques et cela risque fortement de penaliser quelques modèles(sensibles aux relations d'ordre) de ML sauf ceux basés sur les arbres de décision."
   ]
  },
  {
   "cell_type": "code",
   "execution_count": 58,
   "id": "e9595f98",
   "metadata": {},
   "outputs": [],
   "source": [
    "from sklearn.preprocessing import LabelBinarizer"
   ]
  },
  {
   "cell_type": "code",
   "execution_count": 59,
   "id": "188382c0",
   "metadata": {},
   "outputs": [
    {
     "data": {
      "text/plain": [
       "array([[0, 1, 0, 0],\n",
       "       [1, 0, 0, 0],\n",
       "       [0, 0, 1, 0],\n",
       "       [0, 0, 0, 1],\n",
       "       [0, 1, 0, 0]])"
      ]
     },
     "execution_count": 59,
     "metadata": {},
     "output_type": "execute_result"
    }
   ],
   "source": [
    "encoder = LabelBinarizer()\n",
    "\n",
    "# Entrainer et transformer le model\n",
    "encoder.fit_transform(y)"
   ]
  },
  {
   "cell_type": "code",
   "execution_count": 60,
   "id": "c1df3db6",
   "metadata": {},
   "outputs": [
    {
     "data": {
      "text/plain": [
       "<5x4 sparse matrix of type '<class 'numpy.int32'>'\n",
       "\twith 5 stored elements in Compressed Sparse Row format>"
      ]
     },
     "execution_count": 60,
     "metadata": {},
     "output_type": "execute_result"
    }
   ],
   "source": [
    "# On peut voir que les données sont toutes binaires et on peut ignorer les valeurs 0\n",
    "# en compressant la cette matrice avec la méthode de Compressed Sparse Row(CSR)\n",
    "encodeur = LabelBinarizer(sparse_output=True)\n",
    "encodeur.fit_transform(y)"
   ]
  },
  {
   "cell_type": "markdown",
   "id": "2c1a885b",
   "metadata": {},
   "source": [
    "#### One-Hot Encoder\n",
    "#### Avec cet encodeur, la compression se fait par défaut pour éviter que l'on se retrouve avec une matrice très large et difficile à manipuler"
   ]
  },
  {
   "cell_type": "code",
   "execution_count": 61,
   "id": "70e9043b",
   "metadata": {},
   "outputs": [],
   "source": [
    "from sklearn.preprocessing import OneHotEncoder"
   ]
  },
  {
   "cell_type": "code",
   "execution_count": 62,
   "id": "7478d25d",
   "metadata": {},
   "outputs": [
    {
     "data": {
      "text/plain": [
       "<4x6 sparse matrix of type '<class 'numpy.float64'>'\n",
       "\twith 8 stored elements in Compressed Sparse Row format>"
      ]
     },
     "execution_count": 62,
     "metadata": {},
     "output_type": "execute_result"
    }
   ],
   "source": [
    "# Par défaut, la méthode CSV est à True(appliquée)\n",
    "encoder = OneHotEncoder()\n",
    "encoder.fit_transform(X)"
   ]
  },
  {
   "cell_type": "markdown",
   "id": "97ae1321",
   "metadata": {},
   "source": [
    "## 2. Normalisation : \n",
    "#### *Mettre sur une même et seule échelle toutes les données quantitatives (numériques ou décimales)*\n",
    "### - Normalisation MinMax\n",
    "#### *Elle consiste à transformer chaque variable de telle sorte que ses valeurs soient toutes comprises entre 0 et 1 => Xscaled = (X - Xmin / Xmax - Xmin)*"
   ]
  },
  {
   "cell_type": "code",
   "execution_count": 63,
   "id": "4df4761b",
   "metadata": {},
   "outputs": [],
   "source": [
    "from sklearn.preprocessing import MinMaxScaler"
   ]
  },
  {
   "cell_type": "code",
   "execution_count": 64,
   "id": "3dea6617",
   "metadata": {},
   "outputs": [],
   "source": [
    "X = np.array([[90], [100], [130]])"
   ]
  },
  {
   "cell_type": "code",
   "execution_count": 65,
   "id": "9d7991a6",
   "metadata": {},
   "outputs": [
    {
     "data": {
      "text/plain": [
       "array([[0.  ],\n",
       "       [0.25],\n",
       "       [1.  ]])"
      ]
     },
     "execution_count": 65,
     "metadata": {},
     "output_type": "execute_result"
    }
   ],
   "source": [
    "# Créer un scaler(Instancier l'objet de la classe MinMaxScaler)\n",
    "scaler = MinMaxScaler()\n",
    "\n",
    "# Développer le modèle puis le transformer sur les données X\n",
    "scaler.fit_transform(X)"
   ]
  },
  {
   "cell_type": "code",
   "execution_count": 66,
   "id": "9753b9ac",
   "metadata": {},
   "outputs": [
    {
     "data": {
      "image/png": "[encoded data removed]",
      "text/plain": [
       "<Figure size 720x432 with 1 Axes>"
      ]
     },
     "metadata": {
      "needs_background": "light"
     },
     "output_type": "display_data"
    }
   ],
   "source": [
    "# Pour bien comprendre la normalisation, on va travailler avec le Dataset des fleurs d'iris\n",
    "# Chargé précedemment\n",
    "X = iris.data # Données (labels)\n",
    "\n",
    "# Normaliser les données\n",
    "X_min_max = MinMaxScaler().fit_transform(X)\n",
    "\n",
    "plt.figure(figsize=(10, 6))\n",
    "# Visualiser les 2 dernières variables avant la normalisation\n",
    "plt.scatter(X[:, 2], X[:, 3], label=\"originale\", alpha=0.8)\n",
    "# Visualiser les 2 dernières variables après la normalisation\n",
    "plt.scatter(X_min_max[:, 2], X_min_max[:, 3], label=\"min_max\", alpha=0.8)\n",
    "plt.title(\"Données Originales vs Normalisées\")\n",
    "plt.legend()\n",
    "plt.show()"
   ]
  },
  {
   "cell_type": "markdown",
   "id": "b4897cd5",
   "metadata": {},
   "source": [
    "### - Normalisation Standard\n",
    "#### *Elle transforme les données de telle sorte à ce que chaque variable aie une moyenne nulle(0) et l'écart-type égal à 1 => Xscaled = (X - Xmean / Xstd)* Et ceci est beaucoup plus utiliser dans les modèles statistiques (SVM ou Principal Component Analysis)"
   ]
  },
  {
   "cell_type": "code",
   "execution_count": 67,
   "id": "a64796d3",
   "metadata": {},
   "outputs": [],
   "source": [
    "from sklearn.preprocessing import StandardScaler"
   ]
  },
  {
   "cell_type": "code",
   "execution_count": 68,
   "id": "525e3401",
   "metadata": {},
   "outputs": [],
   "source": [
    "X = np.array([[90], [100], [130]])"
   ]
  },
  {
   "cell_type": "code",
   "execution_count": 69,
   "id": "05aecc88",
   "metadata": {},
   "outputs": [
    {
     "data": {
      "text/plain": [
       "array([[-0.98058068],\n",
       "       [-0.39223227],\n",
       "       [ 1.37281295]])"
      ]
     },
     "execution_count": 69,
     "metadata": {},
     "output_type": "execute_result"
    }
   ],
   "source": [
    "scaler = StandardScaler()\n",
    "scaler.fit_transform(X)"
   ]
  },
  {
   "cell_type": "code",
   "execution_count": 70,
   "id": "7effc1f8",
   "metadata": {},
   "outputs": [
    {
     "data": {
      "image/png": "[encoded data removed]",
      "text/plain": [
       "<Figure size 720x432 with 1 Axes>"
      ]
     },
     "metadata": {
      "needs_background": "light"
     },
     "output_type": "display_data"
    }
   ],
   "source": [
    "# Comparaison avec la technique MinMax\n",
    "X = iris.data # Données (labels)\n",
    "\n",
    "# Normalisation avec MinMaxScaler()\n",
    "X_min_max = MinMaxScaler().fit_transform(X)\n",
    "\n",
    "# Normalisation avec StandarScaler()\n",
    "X_std_scaler = StandardScaler().fit_transform(X)\n",
    "\n",
    "plt.figure(figsize=(10, 6))\n",
    "# Visualiser les 2 dernières variables avant la normalisation\n",
    "plt.scatter(X[:, 2], X[:, 3], label=\"originale\", alpha=0.8)\n",
    "# Visualiser les données normalisées avec MinMax\n",
    "plt.scatter(X_min_max[:, 2], X_min_max[:, 3], label=\"min_max\", alpha=0.8)\n",
    "# Visualiser les données normalisées avec Standard\n",
    "plt.scatter(X_std_scaler[:, 2], X_std_scaler[:, 3], label=\"standar\", alpha=0.8)\n",
    "plt.title(\"Données Originales vs Normalisées\")\n",
    "plt.legend()\n",
    "plt.show()"
   ]
  },
  {
   "cell_type": "code",
   "execution_count": 71,
   "id": "2a0579ff",
   "metadata": {},
   "outputs": [
    {
     "data": {
      "image/png": "[encoded data removed]",
      "text/plain": [
       "<Figure size 720x432 with 1 Axes>"
      ]
     },
     "metadata": {
      "needs_background": "light"
     },
     "output_type": "display_data"
    }
   ],
   "source": [
    "# Ces deux techniques de normalisation ont un grand incovenient sur les valeurs abérantes(outliers)\n",
    "# Voyons cela en visuel pour en apprendre davantage\n",
    "\n",
    "X = iris.data # Données (labels)\n",
    "\n",
    "# Valeurs abérantes\n",
    "outliers = np.full((10, 4), 100) + np.random.randn(10, 4)\n",
    "# Assembler les outliers avec les données originales\n",
    "X = np.vstack((X, outliers))\n",
    "\n",
    "# Normalisation avec MinMaxScaler()\n",
    "X_min_max = MinMaxScaler().fit_transform(X)\n",
    "# Normalisation avec StandarScaler()\n",
    "X_std_scaler = StandardScaler().fit_transform(X)\n",
    "\n",
    "plt.figure(figsize=(10, 6))\n",
    "# Visualiser les 2 dernières variables des outliers\n",
    "plt.scatter(X[:, 2], X[:, 3], label=\"originale\", alpha=0.8)\n",
    "plt.scatter(X_min_max[:, 2], X_min_max[:, 3], label=\"min_max\", alpha=0.8)\n",
    "plt.scatter(X_std_scaler[:, 2], X_std_scaler[:, 3], label=\"standar\", alpha=0.8)\n",
    "plt.title(\"Données Originales vs Normalisées\")\n",
    "plt.legend()\n",
    "plt.show()"
   ]
  },
  {
   "cell_type": "markdown",
   "id": "5779ff9c",
   "metadata": {},
   "source": [
    "#### Pour palier à ce problème des outliers, vaut mieux éviter les techniques MinMaxScaler et StandardScaler et utiliser les techniques peu sensibles aux outliers comme le cas de ci-dessous"
   ]
  },
  {
   "cell_type": "markdown",
   "id": "8d30c7fa",
   "metadata": {},
   "source": [
    "### - Normalisation RobustScaler\n",
    "#### *Cette tehnique transforme chaque variable X en étant peu sensible aux outliers* => Xscaled = (X -  mediane ) / IQR  --- =>>> InterQuartile(écart entre Q1 le 1ere quartile et Q3 le 3ème quartile)"
   ]
  },
  {
   "cell_type": "code",
   "execution_count": 72,
   "id": "f0d42b39",
   "metadata": {},
   "outputs": [],
   "source": [
    "from sklearn.preprocessing import RobustScaler"
   ]
  },
  {
   "cell_type": "code",
   "execution_count": 73,
   "id": "1957cc2c",
   "metadata": {},
   "outputs": [
    {
     "data": {
      "image/png": "[encoded data removed]",
      "text/plain": [
       "<Figure size 720x432 with 1 Axes>"
      ]
     },
     "metadata": {
      "needs_background": "light"
     },
     "output_type": "display_data"
    }
   ],
   "source": [
    "\n",
    "X = iris.data # Données (labels)\n",
    "\n",
    "# Valeurs abérantes\n",
    "outliers = np.full((10, 4), 100) + np.random.randn(10, 4)\n",
    "# Assembler les outliers avec les données originales\n",
    "X = np.vstack((X, outliers))\n",
    "\n",
    "# Normalisation avec MinMaxScaler()\n",
    "X_min_max = MinMaxScaler().fit_transform(X)\n",
    "# Normalisation avec StandarScaler()\n",
    "X_std_scal = StandardScaler().fit_transform(X)\n",
    "# Normalisation avec RobustScaler()\n",
    "X_rob_scal = RobustScaler().fit_transform(X)\n",
    "\n",
    "plt.figure(figsize=(10, 6))\n",
    "# Visualiser les 2 dernières variables avant les techniques de normalisation\n",
    "plt.scatter(X[:, 2], X[:, 3], label=\"Originale\", alpha=0.8)\n",
    "plt.scatter(X_min_max[:, 2], X_min_max[:, 3], label=\"MinMaxScaler\", alpha=0.8)\n",
    "plt.scatter(X_std_scal[:, 2], X_std_scal[:, 3], label=\"StandardScaler\", alpha=0.8)\n",
    "plt.scatter(X_rob_scal[:, 2], X_rob_scal[:, 3], label=\"RobustScaler\", alpha=0.8)\n",
    "plt.title(\"Données Originales vs Normalisées\")\n",
    "plt.legend()\n",
    "plt.show()"
   ]
  },
  {
   "cell_type": "markdown",
   "id": "1cb8a69e",
   "metadata": {},
   "source": [
    "#### NB : *Dans l'implémentation du Natural Language Processing(NLP) il serait mieux de normaliser les données avec la technique de Normalizer() qui ne transforme que les lignes et non les colonnes*"
   ]
  },
  {
   "cell_type": "markdown",
   "id": "1219b1b4",
   "metadata": {},
   "source": [
    "## PolynomialFeatures\n",
    "#### *Créer des variables polynomiales à partir des variables existentes.* => c'est faire du Feature Engineering et cela permet de développer des modèle de ML plus riches et plus sophestiqués"
   ]
  },
  {
   "cell_type": "code",
   "execution_count": 74,
   "id": "d85df0a7",
   "metadata": {},
   "outputs": [],
   "source": [
    "from sklearn.preprocessing import PolynomialFeatures"
   ]
  },
  {
   "cell_type": "code",
   "execution_count": 75,
   "id": "1e619763",
   "metadata": {},
   "outputs": [],
   "source": [
    "X = np.array([[1], [3], [0.5]])"
   ]
  },
  {
   "cell_type": "code",
   "execution_count": 76,
   "id": "20cf808c",
   "metadata": {},
   "outputs": [
    {
     "data": {
      "text/plain": [
       "array([[ 1.   ,  1.   ,  1.   ,  1.   ],\n",
       "       [ 1.   ,  3.   ,  9.   , 27.   ],\n",
       "       [ 1.   ,  0.5  ,  0.25 ,  0.125]])"
      ]
     },
     "execution_count": 76,
     "metadata": {},
     "output_type": "execute_result"
    }
   ],
   "source": [
    "# Développer un modèle polynomial de degré 3\n",
    "PolynomialFeatures(3).fit_transform(X)"
   ]
  },
  {
   "cell_type": "code",
   "execution_count": 77,
   "id": "df770488",
   "metadata": {},
   "outputs": [
    {
     "data": {
      "image/png": "[encoded data removed]",
      "text/plain": [
       "<Figure size 720x576 with 1 Axes>"
      ]
     },
     "metadata": {
      "needs_background": "light"
     },
     "output_type": "display_data"
    }
   ],
   "source": [
    "# Un tableau Numpy de 100 éléments compris entre 0 et 5\n",
    "X = np.linspace(0, 5, 100).reshape((100, 1))\n",
    "y = X**2 + 5 * np.cos(X) + np.random.randn(100, 1)\n",
    "\n",
    "plt.figure(figsize=(10, 8))\n",
    "# Afficher X en fonction de y\n",
    "plt.scatter(X, y)\n",
    "\n",
    "# Créer un modèle Linéaire et l'entraîner sur les données X et y\n",
    "model = LinearRegression().fit(X, y)\n",
    "# Faire directement des prédictions sans pour autant l'entraîner \n",
    "y_pred = model.predict(X)\n",
    "\n",
    "# Afficher X en fonction des données prédictes\n",
    "plt.plot(X, y_pred, c=\"r\", lw=3)\n",
    "plt.show()"
   ]
  },
  {
   "cell_type": "code",
   "execution_count": 78,
   "id": "e728bf34",
   "metadata": {},
   "outputs": [
    {
     "data": {
      "image/png": "[encoded data removed]",
      "text/plain": [
       "<Figure size 720x576 with 1 Axes>"
      ]
     },
     "metadata": {
      "needs_background": "light"
     },
     "output_type": "display_data"
    }
   ],
   "source": [
    "# D'après le visuel ci-dessus on peut vraiment voir que le modèle choisi ne rentre dans nos données\n",
    "# Donc il faut à tout changer le modèle pour résoudre ce problème\n",
    "# Un tableau Numpy de 100 éléments compris entre 0 et 5\n",
    "X = np.linspace(0, 5, 100).reshape((100, 1))\n",
    "y = X**2 + 5* np.cos(X) + np.random.randn(100, 1)\n",
    "\n",
    "plt.figure(figsize=(10, 8))\n",
    "# Afficher X en fonction de y\n",
    "plt.scatter(X, y)\n",
    "\n",
    "# Créer une variable polynomial de degré 3\n",
    "X_poly = PolynomialFeatures(3).fit_transform(X)\n",
    "\n",
    "# Créer un modèle linéaire et l'entraîner sur les données X et y\n",
    "model = LinearRegression().fit(X_poly, y)\n",
    "# Faire des prédictions sur la variable polynomiale\n",
    "y_pred = model.predict(X_poly)\n",
    "\n",
    "# Afficher X en fonction des données prédictes\n",
    "plt.plot(X, y_pred, c=\"r\", lw=3)\n",
    "plt.show()"
   ]
  },
  {
   "cell_type": "code",
   "execution_count": 79,
   "id": "d813940e",
   "metadata": {},
   "outputs": [],
   "source": [
    "from sklearn.preprocessing import PowerTransformer"
   ]
  },
  {
   "cell_type": "code",
   "execution_count": 80,
   "id": "646ffa23",
   "metadata": {},
   "outputs": [
    {
     "data": {
      "image/png": "[encoded data removed]",
      "text/plain": [
       "<Figure size 720x576 with 1 Axes>"
      ]
     },
     "metadata": {
      "needs_background": "light"
     },
     "output_type": "display_data"
    }
   ],
   "source": [
    "np.random.seed(0)\n",
    "X = np.random.randn(100, 2) + np.random.randn(100, 2)\n",
    "\n",
    "# Développer le modèle puis l'entrainer sur les données X en les tranformant\n",
    "X1 = PowerTransformer().fit_transform(X)\n",
    "\n",
    "plt.figure(figsize=(10, 8))\n",
    "# Afficher les données de la 1ère ligne sous forme d'histogramme\n",
    "plt.hist(X[:, 0], bins=25, alpha=0.8, label=\"Original\")\n",
    "# Afficher les données de PowerTransformer\n",
    "plt.hist(X1[:, 0], bins=25, alpha=0.8, label=\"PowerTransform\")\n",
    "plt.legend()\n",
    "plt.show()"
   ]
  },
  {
   "cell_type": "markdown",
   "id": "32d78f21",
   "metadata": {},
   "source": [
    "### Discrétisatioon\n",
    "#### *C'est une opération qui permet de découper une variable continue en plusieurs parties*. Elle est très utile pour la création de différentes catégorie dans une variable."
   ]
  },
  {
   "cell_type": "code",
   "execution_count": 81,
   "id": "562912f3",
   "metadata": {},
   "outputs": [],
   "source": [
    "from sklearn.preprocessing import Binarizer, KBinsDiscretizer"
   ]
  },
  {
   "cell_type": "code",
   "execution_count": 82,
   "id": "21ca07e5",
   "metadata": {},
   "outputs": [
    {
     "data": {
      "text/plain": [
       "array([[0.        ],\n",
       "       [0.55555556],\n",
       "       [1.11111111],\n",
       "       [1.66666667],\n",
       "       [2.22222222],\n",
       "       [2.77777778],\n",
       "       [3.33333333],\n",
       "       [3.88888889],\n",
       "       [4.44444444],\n",
       "       [5.        ]])"
      ]
     },
     "execution_count": 82,
     "metadata": {},
     "output_type": "execute_result"
    }
   ],
   "source": [
    "# Matrice de 10 éléments entre 0 et 5 de taille 10\n",
    "X = np.linspace(0, 5, 10).reshape(10, 1)\n",
    "X"
   ]
  },
  {
   "cell_type": "code",
   "execution_count": 83,
   "id": "521c4fa6",
   "metadata": {},
   "outputs": [
    {
     "data": {
      "text/plain": [
       "array([[0.        , 0.        ],\n",
       "       [0.55555556, 0.        ],\n",
       "       [1.11111111, 0.        ],\n",
       "       [1.66666667, 0.        ],\n",
       "       [2.22222222, 0.        ],\n",
       "       [2.77777778, 0.        ],\n",
       "       [3.33333333, 1.        ],\n",
       "       [3.88888889, 1.        ],\n",
       "       [4.44444444, 1.        ],\n",
       "       [5.        , 1.        ]])"
      ]
     },
     "execution_count": 83,
     "metadata": {},
     "output_type": "execute_result"
    }
   ],
   "source": [
    "# Définir un seuil égal à 3 pour que tout ce qui est inférieur à 3 soit converti en 0 \n",
    "# Et tout ce qui est supérieur ou égal à 3 soit converti en 1\n",
    "np.hstack((X, Binarizer(threshold=3).fit_transform(X)))"
   ]
  },
  {
   "cell_type": "code",
   "execution_count": 84,
   "id": "844ba540",
   "metadata": {},
   "outputs": [
    {
     "data": {
      "text/plain": [
       "array([[1., 0., 0., 0., 0., 0.],\n",
       "       [1., 0., 0., 0., 0., 0.],\n",
       "       [0., 1., 0., 0., 0., 0.],\n",
       "       [0., 0., 1., 0., 0., 0.],\n",
       "       [0., 0., 1., 0., 0., 0.],\n",
       "       [0., 0., 0., 1., 0., 0.],\n",
       "       [0., 0., 0., 0., 1., 0.],\n",
       "       [0., 0., 0., 0., 1., 0.],\n",
       "       [0., 0., 0., 0., 0., 1.],\n",
       "       [0., 0., 0., 0., 0., 1.]])"
      ]
     },
     "execution_count": 84,
     "metadata": {},
     "output_type": "execute_result"
    }
   ],
   "source": [
    "# Ce tranformer permet de découper notre variable en plus que deux catégories différentes\n",
    "KBinsDiscretizer(n_bins=6).fit_transform(X).toarray()"
   ]
  },
  {
   "cell_type": "markdown",
   "id": "53f7f2c7",
   "metadata": {},
   "source": [
    "### Personalisation"
   ]
  },
  {
   "cell_type": "code",
   "execution_count": 85,
   "id": "ec512f53",
   "metadata": {},
   "outputs": [],
   "source": [
    "from sklearn.preprocessing import FunctionTransformer"
   ]
  },
  {
   "cell_type": "code",
   "execution_count": 86,
   "id": "c242b202",
   "metadata": {},
   "outputs": [],
   "source": [
    "X = np.linspace(1, 5, 10).reshape((-1, 1))"
   ]
  },
  {
   "cell_type": "code",
   "execution_count": 87,
   "id": "d576e0a9",
   "metadata": {},
   "outputs": [],
   "source": [
    "# Définir l'instance de la classe FunctionTransformer comme modèle\n",
    "mon_transformeur = FunctionTransformer(func=np.log1p, inverse_func=np.expm1)"
   ]
  },
  {
   "cell_type": "code",
   "execution_count": 88,
   "id": "acfecad1",
   "metadata": {},
   "outputs": [
    {
     "data": {
      "text/plain": [
       "array([[0.69314718],\n",
       "       [0.89381788],\n",
       "       [1.06087196],\n",
       "       [1.2039728 ],\n",
       "       [1.32913595],\n",
       "       [1.44036158],\n",
       "       [1.54044504],\n",
       "       [1.63141682],\n",
       "       [1.71479843],\n",
       "       [1.79175947]])"
      ]
     },
     "execution_count": 88,
     "metadata": {},
     "output_type": "execute_result"
    }
   ],
   "source": [
    "# Entraîner le modèle pour avoir une fonction de transformation\n",
    "mon_transformeur.fit_transform(X)"
   ]
  },
  {
   "cell_type": "markdown",
   "id": "a1886275",
   "metadata": {},
   "source": [
    "### Application"
   ]
  },
  {
   "cell_type": "code",
   "execution_count": 89,
   "id": "2ffda88f",
   "metadata": {},
   "outputs": [],
   "source": [
    "from sklearn.linear_model import SGDClassifier"
   ]
  },
  {
   "cell_type": "code",
   "execution_count": 90,
   "id": "901c1705",
   "metadata": {},
   "outputs": [],
   "source": [
    "# Travailler sur le Dataset des fleurs d'iris\n",
    "X = iris.data # les données\n",
    "y = iris.target # Les cibles \n",
    "\n",
    "# Diviser le Dataset en deux parties : la partie train_set et test_set\n",
    "X_train, X_test, y_train, y_test = train_test_split(X, y)"
   ]
  },
  {
   "cell_type": "code",
   "execution_count": 91,
   "id": "8472d50a",
   "metadata": {},
   "outputs": [
    {
     "data": {
      "text/plain": [
       "array([1, 0, 2, 1, 0, 2, 0, 1, 2, 0, 2, 1, 0, 0, 2, 0, 1, 2, 1, 0, 1, 2,\n",
       "       2, 2, 0, 2, 1, 1, 1, 2, 0, 1, 1, 2, 2, 1, 0, 2])"
      ]
     },
     "execution_count": 91,
     "metadata": {},
     "output_type": "execute_result"
    }
   ],
   "source": [
    "# Création du Transformer\n",
    "scaler = StandardScaler()\n",
    "X_train_transformed = scaler.fit_transform(X_train)\n",
    "\n",
    "# Création de l'Estimator\n",
    "model = SGDClassifier(random_state=0)\n",
    "# Entraînement du modèle basé sur les données de train et transformées\n",
    "model.fit(X_train_transformed, y_train)\n",
    "\n",
    "# Le Test du modèel\n",
    "X_test_transformed = scaler.transform(X_test)\n",
    "# Faire des prédictions sur les données du test\n",
    "model.predict(X_test_transformed)"
   ]
  },
  {
   "cell_type": "markdown",
   "id": "b6741bd7",
   "metadata": {},
   "source": [
    "## Pipeline\n",
    "### Avantages : \n",
    "1. *Simple à utiliser*\n",
    "2. *Evite d'avoir les fuites de données ou des données mal transformées*\n",
    "3. *Permet de faire des opérations de cross-validation sur l'ensemble de la chaîne de transformation*"
   ]
  },
  {
   "cell_type": "code",
   "execution_count": 92,
   "id": "71e7ac03",
   "metadata": {},
   "outputs": [],
   "source": [
    "from sklearn.pipeline import make_pipeline"
   ]
  },
  {
   "cell_type": "code",
   "execution_count": 93,
   "id": "7cb486ce",
   "metadata": {},
   "outputs": [
    {
     "data": {
      "text/plain": [
       "array([1, 0, 2, 1, 0, 2, 0, 1, 2, 0, 2, 1, 0, 0, 1, 0, 1, 2, 1, 0, 1, 2,\n",
       "       2, 2, 0, 2, 1, 1, 1, 2, 0, 1, 1, 2, 2, 1, 0, 2])"
      ]
     },
     "execution_count": 93,
     "metadata": {},
     "output_type": "execute_result"
    }
   ],
   "source": [
    "# Créer un modèle\n",
    "model = make_pipeline(StandardScaler(), SGDClassifier())\n",
    "\n",
    "# Entraîner le modèle\n",
    "model.fit(X_train, y_train)\n",
    "# Faire des prédictions sur le modèle\n",
    "model.predict(X_test)\n",
    "\n",
    "# Nous avons les mêmes résultats bien plus rapides que ci-dessus"
   ]
  },
  {
   "cell_type": "code",
   "execution_count": 94,
   "id": "deccf882",
   "metadata": {},
   "outputs": [
    {
     "data": {
      "text/plain": [
       "Pipeline(steps=[('polynomialfeatures', PolynomialFeatures()),\n",
       "                ('standardscaler', StandardScaler()),\n",
       "                ('sgdclassifier', SGDClassifier(random_state=0))])"
      ]
     },
     "execution_count": 94,
     "metadata": {},
     "output_type": "execute_result"
    }
   ],
   "source": [
    "# Créer une pipeline\n",
    "model = make_pipeline(PolynomialFeatures(), StandardScaler(), SGDClassifier(random_state=0))\n",
    "\n",
    "# Observer la pipeline\n",
    "model"
   ]
  },
  {
   "cell_type": "code",
   "execution_count": 95,
   "id": "2be8a216",
   "metadata": {},
   "outputs": [
    {
     "data": {
      "text/plain": [
       "GridSearchCV(cv=5,\n",
       "             estimator=Pipeline(steps=[('polynomialfeatures',\n",
       "                                        PolynomialFeatures()),\n",
       "                                       ('standardscaler', StandardScaler()),\n",
       "                                       ('sgdclassifier',\n",
       "                                        SGDClassifier(random_state=0))]),\n",
       "             param_grid={'polynomialfeatures__degree': [3, 4, 5],\n",
       "                         'sgdclassifier__penalty': ['l1', 'l2']})"
      ]
     },
     "execution_count": 95,
     "metadata": {},
     "output_type": "execute_result"
    }
   ],
   "source": [
    "# Création des paramètres\n",
    "params = {\n",
    "    \"polynomialfeatures__degree\": [3, 4, 5],\n",
    "    \"sgdclassifier__penalty\": [\"l1\", \"l2\"]\n",
    "}\n",
    "\n",
    "# Création de le grid de recherche\n",
    "grid = GridSearchCV(model, param_grid=params, cv=5)\n",
    "\n",
    "# Entrainer le grid\n",
    "grid.fit(X_train, y_train)"
   ]
  },
  {
   "cell_type": "code",
   "execution_count": 96,
   "id": "d857f15c",
   "metadata": {},
   "outputs": [
    {
     "data": {
      "text/plain": [
       "{'polynomialfeatures__degree': 5, 'sgdclassifier__penalty': 'l1'}"
      ]
     },
     "execution_count": 96,
     "metadata": {},
     "output_type": "execute_result"
    }
   ],
   "source": [
    "# Voir les meilleurs params\n",
    "grid.best_params_"
   ]
  },
  {
   "cell_type": "code",
   "execution_count": 97,
   "id": "608c5220",
   "metadata": {},
   "outputs": [
    {
     "data": {
      "text/plain": [
       "1.0"
      ]
     },
     "execution_count": 97,
     "metadata": {},
     "output_type": "execute_result"
    }
   ],
   "source": [
    "# Evaluer le modèle avec les données \n",
    "grid.score(X_test, y_test)"
   ]
  },
  {
   "cell_type": "markdown",
   "id": "5e40409a",
   "metadata": {},
   "source": [
    "### Exercice : \n",
    "Recréer la pipeline pour voir quels transformer donnent les meilleurs résultats"
   ]
  },
  {
   "cell_type": "markdown",
   "id": "18db87dc",
   "metadata": {},
   "source": [
    "# 3. Imputation \n",
    "##### Remplacer les données manquantes par certaines valeurs statistiques."
   ]
  },
  {
   "cell_type": "markdown",
   "id": "b511b1c0",
   "metadata": {},
   "source": [
    "### - SimpleImputer : \n",
    "*Remplace toutes les valeurs manquantes par une valeur statistique*"
   ]
  },
  {
   "cell_type": "code",
   "execution_count": 133,
   "id": "3ef2d4be",
   "metadata": {},
   "outputs": [],
   "source": [
    "from sklearn.impute import SimpleImputer"
   ]
  },
  {
   "cell_type": "code",
   "execution_count": 134,
   "id": "2cd8d6ff",
   "metadata": {},
   "outputs": [],
   "source": [
    "# Création d'un tableau Numpy\n",
    "X = np.array([[10, 3],\n",
    "             [1, 3],\n",
    "             [7, 4],\n",
    "             [np.nan, 3]])"
   ]
  },
  {
   "cell_type": "code",
   "execution_count": 135,
   "id": "2eda8734",
   "metadata": {},
   "outputs": [
    {
     "data": {
      "text/plain": [
       "array([[10.,  3.],\n",
       "       [ 1.,  3.],\n",
       "       [ 7.,  4.],\n",
       "       [ 6.,  3.]])"
      ]
     },
     "execution_count": 135,
     "metadata": {},
     "output_type": "execute_result"
    }
   ],
   "source": [
    "# Pour utiliser ce transformer, il faut d'abord indiquer les valeurs manquantes (missing_values) \n",
    "# ensuite la stratégie(strategy(mean, median, most_frequent, constant)) et en fin la valeur\n",
    "# à remplacer (fill_value(pour constant))\n",
    "imputer = SimpleImputer(missing_values=np.nan, strategy=\"mean\")\n",
    "\n",
    "# Développement\n",
    "imputer.fit_transform(X)"
   ]
  },
  {
   "cell_type": "code",
   "execution_count": 137,
   "id": "14bfa5d5",
   "metadata": {},
   "outputs": [
    {
     "data": {
      "text/plain": [
       "array([[ 9.  ,  5.  ],\n",
       "       [43.  ,  7.  ],\n",
       "       [11.  , 11.  ],\n",
       "       [ 6.  ,  3.25]])"
      ]
     },
     "execution_count": 137,
     "metadata": {},
     "output_type": "execute_result"
    }
   ],
   "source": [
    "# Les données de test, il est important de séparer le train avec le test\n",
    "# En effet, les données du train seront utilisées pour entrainer le modèle et celles du test\n",
    "# serviront pour le test afin que le modèle n'ai pas pas l'impréssion de d'avoir déjà vu ces\n",
    "# données et ce qui donnera un mauvais modèle et pour ensuite, des mauvaises prédictions\n",
    "X_test = np.array([[9, 5],\n",
    "                  [43, 7],\n",
    "                  [11, 11],\n",
    "                  [np.nan, np.nan]])\n",
    "\n",
    "# La transformation\n",
    "imputer.transform(X_test)"
   ]
  },
  {
   "cell_type": "markdown",
   "id": "32b76916",
   "metadata": {},
   "source": [
    "### - KNNImputer :\n",
    "*Remplace toutes les valeurs manquantes associées à un certain échantillon par les valeurs des plus proches voisins.*"
   ]
  },
  {
   "cell_type": "code",
   "execution_count": 138,
   "id": "613d1e0c",
   "metadata": {},
   "outputs": [],
   "source": [
    "from sklearn.impute import KNNImputer"
   ]
  },
  {
   "cell_type": "code",
   "execution_count": 141,
   "id": "c22ffaeb",
   "metadata": {},
   "outputs": [],
   "source": [
    "X = np.array([[1, 100],\n",
    "             [2, 30],\n",
    "             [3, 15],\n",
    "             [np.nan, 20]])"
   ]
  },
  {
   "cell_type": "code",
   "execution_count": 142,
   "id": "87028521",
   "metadata": {},
   "outputs": [
    {
     "data": {
      "text/plain": [
       "array([[  1. , 100. ],\n",
       "       [  2. ,  30. ],\n",
       "       [  3. ,  15. ],\n",
       "       [  2.5,  20. ]])"
      ]
     },
     "execution_count": 142,
     "metadata": {},
     "output_type": "execute_result"
    }
   ],
   "source": [
    "imputer = KNNImputer(n_neighbors=2)\n",
    "imputer.fit_transform(X)"
   ]
  },
  {
   "cell_type": "markdown",
   "id": "7fc076e9",
   "metadata": {},
   "source": [
    "### - MissingIndicator :\n",
    "*Son but est de montrer à quel endroit il nous manque des données dans le Dataset*"
   ]
  },
  {
   "cell_type": "code",
   "execution_count": 143,
   "id": "49c5d865",
   "metadata": {},
   "outputs": [],
   "source": [
    "from sklearn.impute import MissingIndicator"
   ]
  },
  {
   "cell_type": "code",
   "execution_count": 146,
   "id": "45d196d0",
   "metadata": {},
   "outputs": [],
   "source": [
    "X = np.array([[1, 100],\n",
    "             [2, 30],\n",
    "             [3, 15],\n",
    "             [np.nan, 20]])"
   ]
  },
  {
   "cell_type": "markdown",
   "id": "a0fc7e28",
   "metadata": {},
   "source": [
    "missing_values = MissingIndicator()\n",
    "\n",
    "missing_values.fit_transform(X)"
   ]
  },
  {
   "cell_type": "code",
   "execution_count": 148,
   "id": "5d9ae0c1",
   "metadata": {},
   "outputs": [],
   "source": [
    "# Création d'une pipeline afin de créer des colonnes en paralèles\n",
    "from sklearn.pipeline import make_union"
   ]
  },
  {
   "cell_type": "code",
   "execution_count": 149,
   "id": "db194fc5",
   "metadata": {},
   "outputs": [
    {
     "data": {
      "text/plain": [
       "array([[  1., 100.,   0.],\n",
       "       [  2.,  30.,   0.],\n",
       "       [  3.,  15.,   0.],\n",
       "       [-99.,  20.,   1.]])"
      ]
     },
     "execution_count": 149,
     "metadata": {},
     "output_type": "execute_result"
    }
   ],
   "source": [
    "# Une pipeline avec un SimpleImputer remplaçant les données manquantes par -99 \n",
    "# en paralèle avec un MissingIndicator\n",
    "pipeline = make_union(SimpleImputer(strategy=\"constant\", fill_value=-99),\n",
    "                     MissingIndicator())\n",
    "\n",
    "# Traitement des données\n",
    "pipeline.fit_transform(X)"
   ]
  },
  {
   "cell_type": "markdown",
   "id": "140c018a",
   "metadata": {},
   "source": [
    "#### ASTUCE DE DATA SCIENTIST :\n",
    "*Il faut toujours essayer de voir si le manque d'informations peut représenter une nouvelle information pour le modèle*"
   ]
  },
  {
   "cell_type": "markdown",
   "id": "5cc2997a",
   "metadata": {},
   "source": [
    "# APPLICATION\n",
    "### Travailler sur le Dataset du Titanic"
   ]
  },
  {
   "cell_type": "code",
   "execution_count": 150,
   "id": "8fbc6f48",
   "metadata": {},
   "outputs": [],
   "source": [
    "import seaborn as sns"
   ]
  },
  {
   "cell_type": "code",
   "execution_count": 158,
   "id": "b0c03857",
   "metadata": {},
   "outputs": [],
   "source": [
    "# Charger le Dataset du titanic\n",
    "titanic = sns.load_dataset(\"titanic\")\n",
    "\n",
    "# Création des données\n",
    "X = titanic[[\"pclass\", \"age\"]]\n",
    "y = titanic[\"survived\"]\n",
    "\n",
    "# Diviser les données en deux parties : le train et le set\n",
    "X_train, X_test, y_train, y_test = train_test_split(X, y, train_size=0.8)"
   ]
  },
  {
   "cell_type": "code",
   "execution_count": 159,
   "id": "daf692dd",
   "metadata": {},
   "outputs": [],
   "source": [
    "# Créer une pipeline\n",
    "model = make_pipeline(KNNImputer(), SGDClassifier(random_state=0))"
   ]
  },
  {
   "cell_type": "code",
   "execution_count": 160,
   "id": "bd9e7409",
   "metadata": {},
   "outputs": [],
   "source": [
    "# Pour l'optimisation des caractéristiques de GridSearch, on crée des paramètres\n",
    "params = {\n",
    "    \"knnimputer__n_neighbors\" : [1, 2, 3, 4, 5],\n",
    "    \"sgdclassifier__penalty\": [\"l1\", \"l2\"]\n",
    "    \n",
    "}"
   ]
  },
  {
   "cell_type": "code",
   "execution_count": 162,
   "id": "7300ae5f",
   "metadata": {},
   "outputs": [
    {
     "data": {
      "text/plain": [
       "GridSearchCV(cv=5,\n",
       "             estimator=Pipeline(steps=[('knnimputer', KNNImputer()),\n",
       "                                       ('sgdclassifier',\n",
       "                                        SGDClassifier(random_state=0))]),\n",
       "             param_grid={'knnimputer__n_neighbors': [1, 2, 3, 4, 5],\n",
       "                         'sgdclassifier__penalty': ['l1', 'l2']})"
      ]
     },
     "execution_count": 162,
     "metadata": {},
     "output_type": "execute_result"
    }
   ],
   "source": [
    "# Une grid contenant le modèle, le dictionnaire de params et le nbre de cv\n",
    "grid = GridSearchCV(model, param_grid=params, cv=5)\n",
    "\n",
    "# Entrainer le grid sur les données de train\n",
    "grid.fit(X_train, y_train)"
   ]
  },
  {
   "cell_type": "code",
   "execution_count": 165,
   "id": "95208fe5",
   "metadata": {},
   "outputs": [
    {
     "data": {
      "text/plain": [
       "{'knnimputer__n_neighbors': 1, 'sgdclassifier__penalty': 'l1'}"
      ]
     },
     "execution_count": 165,
     "metadata": {},
     "output_type": "execute_result"
    }
   ],
   "source": [
    "# Observation des meilleurs paramètres\n",
    "grid.best_params_"
   ]
  },
  {
   "cell_type": "code",
   "execution_count": null,
   "id": "8397d62a",
   "metadata": {},
   "outputs": [],
   "source": []
  },
  {
   "cell_type": "markdown",
   "id": "1936f71c",
   "metadata": {},
   "source": [
    "# 4. Sélection de variables\n",
    "### feature_selection :\n",
    "##### Trouver les variales les plus utiles pour le développement du modèle de Machine Learning"
   ]
  },
  {
   "cell_type": "markdown",
   "id": "5cfb357f",
   "metadata": {},
   "source": [
    "### - VarianceThreshold\n",
    "#### Calcul la variance de toutes les variables du Dataset puis éliminer toutes les variables dont la variance est inférieure est au seuil défint au préalable. Eliminer les variables qui varient peu ou pas du tout."
   ]
  },
  {
   "cell_type": "code",
   "execution_count": 98,
   "id": "72b1c0bd",
   "metadata": {},
   "outputs": [],
   "source": [
    "from sklearn.feature_selection import VarianceThreshold"
   ]
  },
  {
   "cell_type": "code",
   "execution_count": 102,
   "id": "edf1d896",
   "metadata": {},
   "outputs": [
    {
     "data": {
      "image/png": "[encoded data removed]",
      "text/plain": [
       "<Figure size 720x432 with 1 Axes>"
      ]
     },
     "metadata": {
      "needs_background": "light"
     },
     "output_type": "display_data"
    }
   ],
   "source": [
    "# Travailler sur les données des fleurs d'iris chargées ci-dessus\n",
    "plt.figure(figsize=(10, 6))\n",
    "# Visualiser les différentes variables (iris.data)\n",
    "plt.plot(X)\n",
    "plt.legend(iris.feature_names)\n",
    "plt.show()"
   ]
  },
  {
   "cell_type": "code",
   "execution_count": 104,
   "id": "40a3044a",
   "metadata": {},
   "outputs": [
    {
     "data": {
      "text/plain": [
       "array([0.68112222, 0.18871289, 3.09550267, 0.57713289])"
      ]
     },
     "execution_count": 104,
     "metadata": {},
     "output_type": "execute_result"
    }
   ],
   "source": [
    "# On peut voir comment le sepal width(orange) ne varie presque pas donc il serait mieux de l'éliminer\n",
    "\n",
    "# Calculer la variance de toutes les variables afin de définir un seuil d'élimination\n",
    "X.var(axis=0)"
   ]
  },
  {
   "cell_type": "code",
   "execution_count": 106,
   "id": "4645c29c",
   "metadata": {},
   "outputs": [
    {
     "data": {
      "text/plain": [
       "array([[5.1, 1.4, 0.2],\n",
       "       [4.9, 1.4, 0.2],\n",
       "       [4.7, 1.3, 0.2],\n",
       "       [4.6, 1.5, 0.2],\n",
       "       [5. , 1.4, 0.2],\n",
       "       [5.4, 1.7, 0.4],\n",
       "       [4.6, 1.4, 0.3],\n",
       "       [5. , 1.5, 0.2],\n",
       "       [4.4, 1.4, 0.2],\n",
       "       [4.9, 1.5, 0.1],\n",
       "       [5.4, 1.5, 0.2],\n",
       "       [4.8, 1.6, 0.2],\n",
       "       [4.8, 1.4, 0.1],\n",
       "       [4.3, 1.1, 0.1],\n",
       "       [5.8, 1.2, 0.2],\n",
       "       [5.7, 1.5, 0.4],\n",
       "       [5.4, 1.3, 0.4],\n",
       "       [5.1, 1.4, 0.3],\n",
       "       [5.7, 1.7, 0.3],\n",
       "       [5.1, 1.5, 0.3],\n",
       "       [5.4, 1.7, 0.2],\n",
       "       [5.1, 1.5, 0.4],\n",
       "       [4.6, 1. , 0.2],\n",
       "       [5.1, 1.7, 0.5],\n",
       "       [4.8, 1.9, 0.2],\n",
       "       [5. , 1.6, 0.2],\n",
       "       [5. , 1.6, 0.4],\n",
       "       [5.2, 1.5, 0.2],\n",
       "       [5.2, 1.4, 0.2],\n",
       "       [4.7, 1.6, 0.2],\n",
       "       [4.8, 1.6, 0.2],\n",
       "       [5.4, 1.5, 0.4],\n",
       "       [5.2, 1.5, 0.1],\n",
       "       [5.5, 1.4, 0.2],\n",
       "       [4.9, 1.5, 0.2],\n",
       "       [5. , 1.2, 0.2],\n",
       "       [5.5, 1.3, 0.2],\n",
       "       [4.9, 1.4, 0.1],\n",
       "       [4.4, 1.3, 0.2],\n",
       "       [5.1, 1.5, 0.2],\n",
       "       [5. , 1.3, 0.3],\n",
       "       [4.5, 1.3, 0.3],\n",
       "       [4.4, 1.3, 0.2],\n",
       "       [5. , 1.6, 0.6],\n",
       "       [5.1, 1.9, 0.4],\n",
       "       [4.8, 1.4, 0.3],\n",
       "       [5.1, 1.6, 0.2],\n",
       "       [4.6, 1.4, 0.2],\n",
       "       [5.3, 1.5, 0.2],\n",
       "       [5. , 1.4, 0.2],\n",
       "       [7. , 4.7, 1.4],\n",
       "       [6.4, 4.5, 1.5],\n",
       "       [6.9, 4.9, 1.5],\n",
       "       [5.5, 4. , 1.3],\n",
       "       [6.5, 4.6, 1.5],\n",
       "       [5.7, 4.5, 1.3],\n",
       "       [6.3, 4.7, 1.6],\n",
       "       [4.9, 3.3, 1. ],\n",
       "       [6.6, 4.6, 1.3],\n",
       "       [5.2, 3.9, 1.4],\n",
       "       [5. , 3.5, 1. ],\n",
       "       [5.9, 4.2, 1.5],\n",
       "       [6. , 4. , 1. ],\n",
       "       [6.1, 4.7, 1.4],\n",
       "       [5.6, 3.6, 1.3],\n",
       "       [6.7, 4.4, 1.4],\n",
       "       [5.6, 4.5, 1.5],\n",
       "       [5.8, 4.1, 1. ],\n",
       "       [6.2, 4.5, 1.5],\n",
       "       [5.6, 3.9, 1.1],\n",
       "       [5.9, 4.8, 1.8],\n",
       "       [6.1, 4. , 1.3],\n",
       "       [6.3, 4.9, 1.5],\n",
       "       [6.1, 4.7, 1.2],\n",
       "       [6.4, 4.3, 1.3],\n",
       "       [6.6, 4.4, 1.4],\n",
       "       [6.8, 4.8, 1.4],\n",
       "       [6.7, 5. , 1.7],\n",
       "       [6. , 4.5, 1.5],\n",
       "       [5.7, 3.5, 1. ],\n",
       "       [5.5, 3.8, 1.1],\n",
       "       [5.5, 3.7, 1. ],\n",
       "       [5.8, 3.9, 1.2],\n",
       "       [6. , 5.1, 1.6],\n",
       "       [5.4, 4.5, 1.5],\n",
       "       [6. , 4.5, 1.6],\n",
       "       [6.7, 4.7, 1.5],\n",
       "       [6.3, 4.4, 1.3],\n",
       "       [5.6, 4.1, 1.3],\n",
       "       [5.5, 4. , 1.3],\n",
       "       [5.5, 4.4, 1.2],\n",
       "       [6.1, 4.6, 1.4],\n",
       "       [5.8, 4. , 1.2],\n",
       "       [5. , 3.3, 1. ],\n",
       "       [5.6, 4.2, 1.3],\n",
       "       [5.7, 4.2, 1.2],\n",
       "       [5.7, 4.2, 1.3],\n",
       "       [6.2, 4.3, 1.3],\n",
       "       [5.1, 3. , 1.1],\n",
       "       [5.7, 4.1, 1.3],\n",
       "       [6.3, 6. , 2.5],\n",
       "       [5.8, 5.1, 1.9],\n",
       "       [7.1, 5.9, 2.1],\n",
       "       [6.3, 5.6, 1.8],\n",
       "       [6.5, 5.8, 2.2],\n",
       "       [7.6, 6.6, 2.1],\n",
       "       [4.9, 4.5, 1.7],\n",
       "       [7.3, 6.3, 1.8],\n",
       "       [6.7, 5.8, 1.8],\n",
       "       [7.2, 6.1, 2.5],\n",
       "       [6.5, 5.1, 2. ],\n",
       "       [6.4, 5.3, 1.9],\n",
       "       [6.8, 5.5, 2.1],\n",
       "       [5.7, 5. , 2. ],\n",
       "       [5.8, 5.1, 2.4],\n",
       "       [6.4, 5.3, 2.3],\n",
       "       [6.5, 5.5, 1.8],\n",
       "       [7.7, 6.7, 2.2],\n",
       "       [7.7, 6.9, 2.3],\n",
       "       [6. , 5. , 1.5],\n",
       "       [6.9, 5.7, 2.3],\n",
       "       [5.6, 4.9, 2. ],\n",
       "       [7.7, 6.7, 2. ],\n",
       "       [6.3, 4.9, 1.8],\n",
       "       [6.7, 5.7, 2.1],\n",
       "       [7.2, 6. , 1.8],\n",
       "       [6.2, 4.8, 1.8],\n",
       "       [6.1, 4.9, 1.8],\n",
       "       [6.4, 5.6, 2.1],\n",
       "       [7.2, 5.8, 1.6],\n",
       "       [7.4, 6.1, 1.9],\n",
       "       [7.9, 6.4, 2. ],\n",
       "       [6.4, 5.6, 2.2],\n",
       "       [6.3, 5.1, 1.5],\n",
       "       [6.1, 5.6, 1.4],\n",
       "       [7.7, 6.1, 2.3],\n",
       "       [6.3, 5.6, 2.4],\n",
       "       [6.4, 5.5, 1.8],\n",
       "       [6. , 4.8, 1.8],\n",
       "       [6.9, 5.4, 2.1],\n",
       "       [6.7, 5.6, 2.4],\n",
       "       [6.9, 5.1, 2.3],\n",
       "       [5.8, 5.1, 1.9],\n",
       "       [6.8, 5.9, 2.3],\n",
       "       [6.7, 5.7, 2.5],\n",
       "       [6.7, 5.2, 2.3],\n",
       "       [6.3, 5. , 1.9],\n",
       "       [6.5, 5.2, 2. ],\n",
       "       [6.2, 5.4, 2.3],\n",
       "       [5.9, 5.1, 1.8]])"
      ]
     },
     "execution_count": 106,
     "metadata": {},
     "output_type": "execute_result"
    }
   ],
   "source": [
    "# Créer un object selecteur à partir de la classe VarianceTreshold tout \n",
    "# en précisant un seuil afin d'éliminer les variables qui ne varient pas ou presque pas\n",
    "selector = VarianceThreshold(threshold=0.2)\n",
    "\n",
    "# Transformation \n",
    "selector.fit_transform(X)"
   ]
  },
  {
   "cell_type": "code",
   "execution_count": 107,
   "id": "eae00759",
   "metadata": {},
   "outputs": [
    {
     "data": {
      "text/plain": [
       "array([ True, False,  True,  True])"
      ]
     },
     "execution_count": 107,
     "metadata": {},
     "output_type": "execute_result"
    }
   ],
   "source": [
    "# Voir les variables qui ont été sélectionnées\n",
    "selector.get_support()"
   ]
  },
  {
   "cell_type": "code",
   "execution_count": 108,
   "id": "2743998d",
   "metadata": {},
   "outputs": [],
   "source": [
    "# Avec la liste des differentes fleurs on peut faire du Booleane Indexing\n",
    "# Mettre cette liste dans un tableau Numpy\n",
    "liste_fleurs = np.array(iris.feature_names)"
   ]
  },
  {
   "cell_type": "code",
   "execution_count": 112,
   "id": "9ea251b3",
   "metadata": {},
   "outputs": [
    {
     "data": {
      "text/plain": [
       "array(['sepal length (cm)', 'petal length (cm)', 'petal width (cm)'],\n",
       "      dtype='<U17')"
      ]
     },
     "execution_count": 112,
     "metadata": {},
     "output_type": "execute_result"
    }
   ],
   "source": [
    "# Voir les variables sélectionnées après définition du seuil\n",
    "liste_fleurs[selector.get_support()]"
   ]
  },
  {
   "cell_type": "markdown",
   "id": "c4c78652",
   "metadata": {},
   "source": [
    "### - SelectKBest\n",
    "#### On sélectionne les variables en se basant sur les tests de dépendance : *sélectionne les K variables X dont le score du test de dépendance avec y est le plus élevé.*  TESTS (classification : chi2 - pour comparer les variables catégorielles ensemble, ANOVA; Régression : Pearson Correlation)"
   ]
  },
  {
   "cell_type": "code",
   "execution_count": 113,
   "id": "7408d293",
   "metadata": {},
   "outputs": [],
   "source": [
    "from sklearn.feature_selection import SelectKBest, chi2"
   ]
  },
  {
   "cell_type": "code",
   "execution_count": 114,
   "id": "78486bc7",
   "metadata": {},
   "outputs": [
    {
     "data": {
      "text/plain": [
       "(array([ 10.81782088,   3.7107283 , 116.31261309,  67.0483602 ]),\n",
       " array([4.47651499e-03, 1.56395980e-01, 5.53397228e-26, 2.75824965e-15]))"
      ]
     },
     "execution_count": 114,
     "metadata": {},
     "output_type": "execute_result"
    }
   ],
   "source": [
    "# Utilisation du test de chi2\n",
    "chi2(X, y)\n",
    "\n",
    "# On a 2 tableaux, le 1er pour les scores du test (score statistique) \n",
    "# et le 2nd pour les pvalues, valeur-p du test (les valeurs de proba)"
   ]
  },
  {
   "cell_type": "code",
   "execution_count": 116,
   "id": "b3b42826",
   "metadata": {},
   "outputs": [
    {
     "data": {
      "text/plain": [
       "array([[1.4, 0.2],\n",
       "       [1.4, 0.2],\n",
       "       [1.3, 0.2],\n",
       "       [1.5, 0.2],\n",
       "       [1.4, 0.2],\n",
       "       [1.7, 0.4],\n",
       "       [1.4, 0.3],\n",
       "       [1.5, 0.2],\n",
       "       [1.4, 0.2],\n",
       "       [1.5, 0.1],\n",
       "       [1.5, 0.2],\n",
       "       [1.6, 0.2],\n",
       "       [1.4, 0.1],\n",
       "       [1.1, 0.1],\n",
       "       [1.2, 0.2],\n",
       "       [1.5, 0.4],\n",
       "       [1.3, 0.4],\n",
       "       [1.4, 0.3],\n",
       "       [1.7, 0.3],\n",
       "       [1.5, 0.3],\n",
       "       [1.7, 0.2],\n",
       "       [1.5, 0.4],\n",
       "       [1. , 0.2],\n",
       "       [1.7, 0.5],\n",
       "       [1.9, 0.2],\n",
       "       [1.6, 0.2],\n",
       "       [1.6, 0.4],\n",
       "       [1.5, 0.2],\n",
       "       [1.4, 0.2],\n",
       "       [1.6, 0.2],\n",
       "       [1.6, 0.2],\n",
       "       [1.5, 0.4],\n",
       "       [1.5, 0.1],\n",
       "       [1.4, 0.2],\n",
       "       [1.5, 0.2],\n",
       "       [1.2, 0.2],\n",
       "       [1.3, 0.2],\n",
       "       [1.4, 0.1],\n",
       "       [1.3, 0.2],\n",
       "       [1.5, 0.2],\n",
       "       [1.3, 0.3],\n",
       "       [1.3, 0.3],\n",
       "       [1.3, 0.2],\n",
       "       [1.6, 0.6],\n",
       "       [1.9, 0.4],\n",
       "       [1.4, 0.3],\n",
       "       [1.6, 0.2],\n",
       "       [1.4, 0.2],\n",
       "       [1.5, 0.2],\n",
       "       [1.4, 0.2],\n",
       "       [4.7, 1.4],\n",
       "       [4.5, 1.5],\n",
       "       [4.9, 1.5],\n",
       "       [4. , 1.3],\n",
       "       [4.6, 1.5],\n",
       "       [4.5, 1.3],\n",
       "       [4.7, 1.6],\n",
       "       [3.3, 1. ],\n",
       "       [4.6, 1.3],\n",
       "       [3.9, 1.4],\n",
       "       [3.5, 1. ],\n",
       "       [4.2, 1.5],\n",
       "       [4. , 1. ],\n",
       "       [4.7, 1.4],\n",
       "       [3.6, 1.3],\n",
       "       [4.4, 1.4],\n",
       "       [4.5, 1.5],\n",
       "       [4.1, 1. ],\n",
       "       [4.5, 1.5],\n",
       "       [3.9, 1.1],\n",
       "       [4.8, 1.8],\n",
       "       [4. , 1.3],\n",
       "       [4.9, 1.5],\n",
       "       [4.7, 1.2],\n",
       "       [4.3, 1.3],\n",
       "       [4.4, 1.4],\n",
       "       [4.8, 1.4],\n",
       "       [5. , 1.7],\n",
       "       [4.5, 1.5],\n",
       "       [3.5, 1. ],\n",
       "       [3.8, 1.1],\n",
       "       [3.7, 1. ],\n",
       "       [3.9, 1.2],\n",
       "       [5.1, 1.6],\n",
       "       [4.5, 1.5],\n",
       "       [4.5, 1.6],\n",
       "       [4.7, 1.5],\n",
       "       [4.4, 1.3],\n",
       "       [4.1, 1.3],\n",
       "       [4. , 1.3],\n",
       "       [4.4, 1.2],\n",
       "       [4.6, 1.4],\n",
       "       [4. , 1.2],\n",
       "       [3.3, 1. ],\n",
       "       [4.2, 1.3],\n",
       "       [4.2, 1.2],\n",
       "       [4.2, 1.3],\n",
       "       [4.3, 1.3],\n",
       "       [3. , 1.1],\n",
       "       [4.1, 1.3],\n",
       "       [6. , 2.5],\n",
       "       [5.1, 1.9],\n",
       "       [5.9, 2.1],\n",
       "       [5.6, 1.8],\n",
       "       [5.8, 2.2],\n",
       "       [6.6, 2.1],\n",
       "       [4.5, 1.7],\n",
       "       [6.3, 1.8],\n",
       "       [5.8, 1.8],\n",
       "       [6.1, 2.5],\n",
       "       [5.1, 2. ],\n",
       "       [5.3, 1.9],\n",
       "       [5.5, 2.1],\n",
       "       [5. , 2. ],\n",
       "       [5.1, 2.4],\n",
       "       [5.3, 2.3],\n",
       "       [5.5, 1.8],\n",
       "       [6.7, 2.2],\n",
       "       [6.9, 2.3],\n",
       "       [5. , 1.5],\n",
       "       [5.7, 2.3],\n",
       "       [4.9, 2. ],\n",
       "       [6.7, 2. ],\n",
       "       [4.9, 1.8],\n",
       "       [5.7, 2.1],\n",
       "       [6. , 1.8],\n",
       "       [4.8, 1.8],\n",
       "       [4.9, 1.8],\n",
       "       [5.6, 2.1],\n",
       "       [5.8, 1.6],\n",
       "       [6.1, 1.9],\n",
       "       [6.4, 2. ],\n",
       "       [5.6, 2.2],\n",
       "       [5.1, 1.5],\n",
       "       [5.6, 1.4],\n",
       "       [6.1, 2.3],\n",
       "       [5.6, 2.4],\n",
       "       [5.5, 1.8],\n",
       "       [4.8, 1.8],\n",
       "       [5.4, 2.1],\n",
       "       [5.6, 2.4],\n",
       "       [5.1, 2.3],\n",
       "       [5.1, 1.9],\n",
       "       [5.9, 2.3],\n",
       "       [5.7, 2.5],\n",
       "       [5.2, 2.3],\n",
       "       [5. , 1.9],\n",
       "       [5.2, 2. ],\n",
       "       [5.4, 2.3],\n",
       "       [5.1, 1.8]])"
      ]
     },
     "execution_count": 116,
     "metadata": {},
     "output_type": "execute_result"
    }
   ],
   "source": [
    "# Créer un sélecteur du transformeur SelectKBest avec le nombre de variables de X\n",
    "# Tout en précisant le type de test de dépendance à mettre en place\n",
    "selector = SelectKBest(chi2, k=2)\n",
    "\n",
    "# On applique la transformation sur les données X en fonction de y\n",
    "selector.fit_transform(X, y)"
   ]
  },
  {
   "cell_type": "code",
   "execution_count": 117,
   "id": "46efc333",
   "metadata": {},
   "outputs": [
    {
     "data": {
      "text/plain": [
       "array([False, False,  True,  True])"
      ]
     },
     "execution_count": 117,
     "metadata": {},
     "output_type": "execute_result"
    }
   ],
   "source": [
    "# Voir les variables qui ont été sélectionnées\n",
    "selector.get_support()"
   ]
  },
  {
   "cell_type": "markdown",
   "id": "9ee96f49",
   "metadata": {},
   "source": [
    "### - SelectFromModel :\n",
    "#### *Cette technique consiste à pré-entraîner un estimateur sur tout le Dataset puis examiner ses coéfficients pour voir quelles sont les variables (features) les plus importantes*"
   ]
  },
  {
   "cell_type": "code",
   "execution_count": 118,
   "id": "8982c66a",
   "metadata": {},
   "outputs": [],
   "source": [
    "from sklearn.feature_selection import SelectFromModel\n",
    "from sklearn.linear_model import SGDClassifier"
   ]
  },
  {
   "cell_type": "code",
   "execution_count": 119,
   "id": "5f86e0c5",
   "metadata": {},
   "outputs": [
    {
     "data": {
      "text/plain": [
       "array([[1.4, 0.2],\n",
       "       [1.4, 0.2],\n",
       "       [1.3, 0.2],\n",
       "       [1.5, 0.2],\n",
       "       [1.4, 0.2],\n",
       "       [1.7, 0.4],\n",
       "       [1.4, 0.3],\n",
       "       [1.5, 0.2],\n",
       "       [1.4, 0.2],\n",
       "       [1.5, 0.1],\n",
       "       [1.5, 0.2],\n",
       "       [1.6, 0.2],\n",
       "       [1.4, 0.1],\n",
       "       [1.1, 0.1],\n",
       "       [1.2, 0.2],\n",
       "       [1.5, 0.4],\n",
       "       [1.3, 0.4],\n",
       "       [1.4, 0.3],\n",
       "       [1.7, 0.3],\n",
       "       [1.5, 0.3],\n",
       "       [1.7, 0.2],\n",
       "       [1.5, 0.4],\n",
       "       [1. , 0.2],\n",
       "       [1.7, 0.5],\n",
       "       [1.9, 0.2],\n",
       "       [1.6, 0.2],\n",
       "       [1.6, 0.4],\n",
       "       [1.5, 0.2],\n",
       "       [1.4, 0.2],\n",
       "       [1.6, 0.2],\n",
       "       [1.6, 0.2],\n",
       "       [1.5, 0.4],\n",
       "       [1.5, 0.1],\n",
       "       [1.4, 0.2],\n",
       "       [1.5, 0.2],\n",
       "       [1.2, 0.2],\n",
       "       [1.3, 0.2],\n",
       "       [1.4, 0.1],\n",
       "       [1.3, 0.2],\n",
       "       [1.5, 0.2],\n",
       "       [1.3, 0.3],\n",
       "       [1.3, 0.3],\n",
       "       [1.3, 0.2],\n",
       "       [1.6, 0.6],\n",
       "       [1.9, 0.4],\n",
       "       [1.4, 0.3],\n",
       "       [1.6, 0.2],\n",
       "       [1.4, 0.2],\n",
       "       [1.5, 0.2],\n",
       "       [1.4, 0.2],\n",
       "       [4.7, 1.4],\n",
       "       [4.5, 1.5],\n",
       "       [4.9, 1.5],\n",
       "       [4. , 1.3],\n",
       "       [4.6, 1.5],\n",
       "       [4.5, 1.3],\n",
       "       [4.7, 1.6],\n",
       "       [3.3, 1. ],\n",
       "       [4.6, 1.3],\n",
       "       [3.9, 1.4],\n",
       "       [3.5, 1. ],\n",
       "       [4.2, 1.5],\n",
       "       [4. , 1. ],\n",
       "       [4.7, 1.4],\n",
       "       [3.6, 1.3],\n",
       "       [4.4, 1.4],\n",
       "       [4.5, 1.5],\n",
       "       [4.1, 1. ],\n",
       "       [4.5, 1.5],\n",
       "       [3.9, 1.1],\n",
       "       [4.8, 1.8],\n",
       "       [4. , 1.3],\n",
       "       [4.9, 1.5],\n",
       "       [4.7, 1.2],\n",
       "       [4.3, 1.3],\n",
       "       [4.4, 1.4],\n",
       "       [4.8, 1.4],\n",
       "       [5. , 1.7],\n",
       "       [4.5, 1.5],\n",
       "       [3.5, 1. ],\n",
       "       [3.8, 1.1],\n",
       "       [3.7, 1. ],\n",
       "       [3.9, 1.2],\n",
       "       [5.1, 1.6],\n",
       "       [4.5, 1.5],\n",
       "       [4.5, 1.6],\n",
       "       [4.7, 1.5],\n",
       "       [4.4, 1.3],\n",
       "       [4.1, 1.3],\n",
       "       [4. , 1.3],\n",
       "       [4.4, 1.2],\n",
       "       [4.6, 1.4],\n",
       "       [4. , 1.2],\n",
       "       [3.3, 1. ],\n",
       "       [4.2, 1.3],\n",
       "       [4.2, 1.2],\n",
       "       [4.2, 1.3],\n",
       "       [4.3, 1.3],\n",
       "       [3. , 1.1],\n",
       "       [4.1, 1.3],\n",
       "       [6. , 2.5],\n",
       "       [5.1, 1.9],\n",
       "       [5.9, 2.1],\n",
       "       [5.6, 1.8],\n",
       "       [5.8, 2.2],\n",
       "       [6.6, 2.1],\n",
       "       [4.5, 1.7],\n",
       "       [6.3, 1.8],\n",
       "       [5.8, 1.8],\n",
       "       [6.1, 2.5],\n",
       "       [5.1, 2. ],\n",
       "       [5.3, 1.9],\n",
       "       [5.5, 2.1],\n",
       "       [5. , 2. ],\n",
       "       [5.1, 2.4],\n",
       "       [5.3, 2.3],\n",
       "       [5.5, 1.8],\n",
       "       [6.7, 2.2],\n",
       "       [6.9, 2.3],\n",
       "       [5. , 1.5],\n",
       "       [5.7, 2.3],\n",
       "       [4.9, 2. ],\n",
       "       [6.7, 2. ],\n",
       "       [4.9, 1.8],\n",
       "       [5.7, 2.1],\n",
       "       [6. , 1.8],\n",
       "       [4.8, 1.8],\n",
       "       [4.9, 1.8],\n",
       "       [5.6, 2.1],\n",
       "       [5.8, 1.6],\n",
       "       [6.1, 1.9],\n",
       "       [6.4, 2. ],\n",
       "       [5.6, 2.2],\n",
       "       [5.1, 1.5],\n",
       "       [5.6, 1.4],\n",
       "       [6.1, 2.3],\n",
       "       [5.6, 2.4],\n",
       "       [5.5, 1.8],\n",
       "       [4.8, 1.8],\n",
       "       [5.4, 2.1],\n",
       "       [5.6, 2.4],\n",
       "       [5.1, 2.3],\n",
       "       [5.1, 1.9],\n",
       "       [5.9, 2.3],\n",
       "       [5.7, 2.5],\n",
       "       [5.2, 2.3],\n",
       "       [5. , 1.9],\n",
       "       [5.2, 2. ],\n",
       "       [5.4, 2.3],\n",
       "       [5.1, 1.8]])"
      ]
     },
     "execution_count": 119,
     "metadata": {},
     "output_type": "execute_result"
    }
   ],
   "source": [
    "# Créer un transformeur en utilisant l'estimateur SGDClassifier() avec un sueil de base à la moyenne\n",
    "selector = SelectFromModel(SGDClassifier(random_state=0), threshold=\"mean\")\n",
    "\n",
    "# Développer le transformeur sur X et y car, avec l'estimateur il est obligatoire de l'entraîner\n",
    "selector.fit_transform(X, y)"
   ]
  },
  {
   "cell_type": "code",
   "execution_count": 120,
   "id": "1404e017",
   "metadata": {},
   "outputs": [
    {
     "data": {
      "text/plain": [
       "array([False, False,  True,  True])"
      ]
     },
     "execution_count": 120,
     "metadata": {},
     "output_type": "execute_result"
    }
   ],
   "source": [
    "# On obtient le même résultat que ci-dessus dont 2 variables ont été sélectionnées\n",
    "\n",
    "# Afficher ces 2 variables sélectionnées\n",
    "selector.get_support()"
   ]
  },
  {
   "cell_type": "code",
   "execution_count": 125,
   "id": "89a92f8d",
   "metadata": {},
   "outputs": [
    {
     "data": {
      "text/plain": [
       "array([-26.04295373, -35.56158609,  37.87734374,  19.83872585])"
      ]
     },
     "execution_count": 125,
     "metadata": {},
     "output_type": "execute_result"
    }
   ],
   "source": [
    "# Voir les coéfficients qui ont été trouvés par notre estimator(SGDClassifier)\n",
    "selector.estimator_.coef_.mean(axis=0)\n",
    "\n",
    "# Tout ce qui est négatif n'est pas sélectionné mais plutôt tout ce qui est positif(au dessus de la moyenne)"
   ]
  },
  {
   "cell_type": "markdown",
   "id": "a1237fc7",
   "metadata": {},
   "source": [
    "### - RFE(Recursiv Feature Elimination) + RFECV(Recursiv Feature Elimination Cross-Validation) : *Selecteurs récursifs* éliminent les variables les moins importantes de façon récursive.\n",
    "#### Un estimateur est entrainé plusieurs fois, après chaque entrainement, des features(variables) sont éliminées sur la base des coéfficientes les plus faibles de l'estimateur"
   ]
  },
  {
   "cell_type": "code",
   "execution_count": 126,
   "id": "6fcd8c47",
   "metadata": {},
   "outputs": [],
   "source": [
    "from sklearn.feature_selection import RFE, RFECV"
   ]
  },
  {
   "cell_type": "code",
   "execution_count": 128,
   "id": "962d7e26",
   "metadata": {},
   "outputs": [
    {
     "data": {
      "text/plain": [
       "array([[3.5, 1.4, 0.2],\n",
       "       [3. , 1.4, 0.2],\n",
       "       [3.2, 1.3, 0.2],\n",
       "       [3.1, 1.5, 0.2],\n",
       "       [3.6, 1.4, 0.2],\n",
       "       [3.9, 1.7, 0.4],\n",
       "       [3.4, 1.4, 0.3],\n",
       "       [3.4, 1.5, 0.2],\n",
       "       [2.9, 1.4, 0.2],\n",
       "       [3.1, 1.5, 0.1],\n",
       "       [3.7, 1.5, 0.2],\n",
       "       [3.4, 1.6, 0.2],\n",
       "       [3. , 1.4, 0.1],\n",
       "       [3. , 1.1, 0.1],\n",
       "       [4. , 1.2, 0.2],\n",
       "       [4.4, 1.5, 0.4],\n",
       "       [3.9, 1.3, 0.4],\n",
       "       [3.5, 1.4, 0.3],\n",
       "       [3.8, 1.7, 0.3],\n",
       "       [3.8, 1.5, 0.3],\n",
       "       [3.4, 1.7, 0.2],\n",
       "       [3.7, 1.5, 0.4],\n",
       "       [3.6, 1. , 0.2],\n",
       "       [3.3, 1.7, 0.5],\n",
       "       [3.4, 1.9, 0.2],\n",
       "       [3. , 1.6, 0.2],\n",
       "       [3.4, 1.6, 0.4],\n",
       "       [3.5, 1.5, 0.2],\n",
       "       [3.4, 1.4, 0.2],\n",
       "       [3.2, 1.6, 0.2],\n",
       "       [3.1, 1.6, 0.2],\n",
       "       [3.4, 1.5, 0.4],\n",
       "       [4.1, 1.5, 0.1],\n",
       "       [4.2, 1.4, 0.2],\n",
       "       [3.1, 1.5, 0.2],\n",
       "       [3.2, 1.2, 0.2],\n",
       "       [3.5, 1.3, 0.2],\n",
       "       [3.6, 1.4, 0.1],\n",
       "       [3. , 1.3, 0.2],\n",
       "       [3.4, 1.5, 0.2],\n",
       "       [3.5, 1.3, 0.3],\n",
       "       [2.3, 1.3, 0.3],\n",
       "       [3.2, 1.3, 0.2],\n",
       "       [3.5, 1.6, 0.6],\n",
       "       [3.8, 1.9, 0.4],\n",
       "       [3. , 1.4, 0.3],\n",
       "       [3.8, 1.6, 0.2],\n",
       "       [3.2, 1.4, 0.2],\n",
       "       [3.7, 1.5, 0.2],\n",
       "       [3.3, 1.4, 0.2],\n",
       "       [3.2, 4.7, 1.4],\n",
       "       [3.2, 4.5, 1.5],\n",
       "       [3.1, 4.9, 1.5],\n",
       "       [2.3, 4. , 1.3],\n",
       "       [2.8, 4.6, 1.5],\n",
       "       [2.8, 4.5, 1.3],\n",
       "       [3.3, 4.7, 1.6],\n",
       "       [2.4, 3.3, 1. ],\n",
       "       [2.9, 4.6, 1.3],\n",
       "       [2.7, 3.9, 1.4],\n",
       "       [2. , 3.5, 1. ],\n",
       "       [3. , 4.2, 1.5],\n",
       "       [2.2, 4. , 1. ],\n",
       "       [2.9, 4.7, 1.4],\n",
       "       [2.9, 3.6, 1.3],\n",
       "       [3.1, 4.4, 1.4],\n",
       "       [3. , 4.5, 1.5],\n",
       "       [2.7, 4.1, 1. ],\n",
       "       [2.2, 4.5, 1.5],\n",
       "       [2.5, 3.9, 1.1],\n",
       "       [3.2, 4.8, 1.8],\n",
       "       [2.8, 4. , 1.3],\n",
       "       [2.5, 4.9, 1.5],\n",
       "       [2.8, 4.7, 1.2],\n",
       "       [2.9, 4.3, 1.3],\n",
       "       [3. , 4.4, 1.4],\n",
       "       [2.8, 4.8, 1.4],\n",
       "       [3. , 5. , 1.7],\n",
       "       [2.9, 4.5, 1.5],\n",
       "       [2.6, 3.5, 1. ],\n",
       "       [2.4, 3.8, 1.1],\n",
       "       [2.4, 3.7, 1. ],\n",
       "       [2.7, 3.9, 1.2],\n",
       "       [2.7, 5.1, 1.6],\n",
       "       [3. , 4.5, 1.5],\n",
       "       [3.4, 4.5, 1.6],\n",
       "       [3.1, 4.7, 1.5],\n",
       "       [2.3, 4.4, 1.3],\n",
       "       [3. , 4.1, 1.3],\n",
       "       [2.5, 4. , 1.3],\n",
       "       [2.6, 4.4, 1.2],\n",
       "       [3. , 4.6, 1.4],\n",
       "       [2.6, 4. , 1.2],\n",
       "       [2.3, 3.3, 1. ],\n",
       "       [2.7, 4.2, 1.3],\n",
       "       [3. , 4.2, 1.2],\n",
       "       [2.9, 4.2, 1.3],\n",
       "       [2.9, 4.3, 1.3],\n",
       "       [2.5, 3. , 1.1],\n",
       "       [2.8, 4.1, 1.3],\n",
       "       [3.3, 6. , 2.5],\n",
       "       [2.7, 5.1, 1.9],\n",
       "       [3. , 5.9, 2.1],\n",
       "       [2.9, 5.6, 1.8],\n",
       "       [3. , 5.8, 2.2],\n",
       "       [3. , 6.6, 2.1],\n",
       "       [2.5, 4.5, 1.7],\n",
       "       [2.9, 6.3, 1.8],\n",
       "       [2.5, 5.8, 1.8],\n",
       "       [3.6, 6.1, 2.5],\n",
       "       [3.2, 5.1, 2. ],\n",
       "       [2.7, 5.3, 1.9],\n",
       "       [3. , 5.5, 2.1],\n",
       "       [2.5, 5. , 2. ],\n",
       "       [2.8, 5.1, 2.4],\n",
       "       [3.2, 5.3, 2.3],\n",
       "       [3. , 5.5, 1.8],\n",
       "       [3.8, 6.7, 2.2],\n",
       "       [2.6, 6.9, 2.3],\n",
       "       [2.2, 5. , 1.5],\n",
       "       [3.2, 5.7, 2.3],\n",
       "       [2.8, 4.9, 2. ],\n",
       "       [2.8, 6.7, 2. ],\n",
       "       [2.7, 4.9, 1.8],\n",
       "       [3.3, 5.7, 2.1],\n",
       "       [3.2, 6. , 1.8],\n",
       "       [2.8, 4.8, 1.8],\n",
       "       [3. , 4.9, 1.8],\n",
       "       [2.8, 5.6, 2.1],\n",
       "       [3. , 5.8, 1.6],\n",
       "       [2.8, 6.1, 1.9],\n",
       "       [3.8, 6.4, 2. ],\n",
       "       [2.8, 5.6, 2.2],\n",
       "       [2.8, 5.1, 1.5],\n",
       "       [2.6, 5.6, 1.4],\n",
       "       [3. , 6.1, 2.3],\n",
       "       [3.4, 5.6, 2.4],\n",
       "       [3.1, 5.5, 1.8],\n",
       "       [3. , 4.8, 1.8],\n",
       "       [3.1, 5.4, 2.1],\n",
       "       [3.1, 5.6, 2.4],\n",
       "       [3.1, 5.1, 2.3],\n",
       "       [2.7, 5.1, 1.9],\n",
       "       [3.2, 5.9, 2.3],\n",
       "       [3.3, 5.7, 2.5],\n",
       "       [3. , 5.2, 2.3],\n",
       "       [2.5, 5. , 1.9],\n",
       "       [3. , 5.2, 2. ],\n",
       "       [3.4, 5.4, 2.3],\n",
       "       [3. , 5.1, 1.8]])"
      ]
     },
     "execution_count": 128,
     "metadata": {},
     "output_type": "execute_result"
    }
   ],
   "source": [
    "# step(nombre de variables à éliminer à chaque itération)\n",
    "# min_features_to_select(nbre de variables que l'on désir à la fin de l'itération récursive)\n",
    "# cv(désigne le nbre de split pour notre cross-validation)\n",
    "selector = RFECV(SGDClassifier(random_state=0), \n",
    "                 step=1, \n",
    "                 min_features_to_select=2, \n",
    "                 cv=5)\n",
    "\n",
    "# Entrainer le sélector puis le tranformer\n",
    "selector.fit_transform(X, y)"
   ]
  },
  {
   "cell_type": "code",
   "execution_count": 129,
   "id": "a46505cf",
   "metadata": {},
   "outputs": [
    {
     "data": {
      "text/plain": [
       "array([2, 1, 1, 1])"
      ]
     },
     "execution_count": 129,
     "metadata": {},
     "output_type": "execute_result"
    }
   ],
   "source": [
    "# Voir le classement final de nos différentes variables\n",
    "selector.ranking_"
   ]
  },
  {
   "cell_type": "code",
   "execution_count": 131,
   "id": "03a7fde8",
   "metadata": {},
   "outputs": [
    {
     "data": {
      "text/plain": [
       "array([[0.73333333, 0.93333333, 0.86666667, 0.83333333, 0.63333333],\n",
       "       [0.73333333, 0.8       , 0.9       , 0.83333333, 0.96666667],\n",
       "       [1.        , 0.8       , 0.76666667, 0.63333333, 0.66666667]])"
      ]
     },
     "execution_count": 131,
     "metadata": {},
     "output_type": "execute_result"
    }
   ],
   "source": [
    "# Voir le score à chaque itération\n",
    "selector.grid_scores_"
   ]
  },
  {
   "cell_type": "code",
   "execution_count": null,
   "id": "57684bac",
   "metadata": {},
   "outputs": [],
   "source": []
  }
 ],
 "metadata": {
  "kernelspec": {
   "display_name": "Python 3 (ipykernel)",
   "language": "python",
   "name": "python3"
  },
  "language_info": {
   "codemirror_mode": {
    "name": "ipython",
    "version": 3
   },
   "file_extension": ".py",
   "mimetype": "text/x-python",
   "name": "python",
   "nbconvert_exporter": "python",
   "pygments_lexer": "ipython3",
   "version": "3.8.12"
  }
 },
 "nbformat": 4,
 "nbformat_minor": 5
}
