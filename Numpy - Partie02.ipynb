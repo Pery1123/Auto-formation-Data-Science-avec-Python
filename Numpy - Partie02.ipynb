{
 "cells": [
  {
   "cell_type": "code",
   "execution_count": 1,
   "id": "370e0c90",
   "metadata": {},
   "outputs": [],
   "source": [
    "# IMPORTATION DES LIBRAIRIES\n",
    "import numpy as np\n",
    "import matplotlib.pyplot as plt"
   ]
  },
  {
   "cell_type": "code",
   "execution_count": 2,
   "id": "1793eeea",
   "metadata": {},
   "outputs": [
    {
     "data": {
      "text/plain": [
       "array([[5, 0, 3, 3, 7],\n",
       "       [9, 3, 5, 2, 4],\n",
       "       [7, 6, 8, 8, 1],\n",
       "       [6, 7, 7, 8, 1],\n",
       "       [5, 9, 8, 9, 4]])"
      ]
     },
     "execution_count": 2,
     "metadata": {},
     "output_type": "execute_result"
    }
   ],
   "source": [
    "np.random.seed(0)\n",
    "A = np.random.randint(0, 10, [5, 5])\n",
    "A"
   ]
  },
  {
   "cell_type": "markdown",
   "id": "308ec493",
   "metadata": {},
   "source": [
    "# Méthodes ndarray"
   ]
  },
  {
   "cell_type": "code",
   "execution_count": 3,
   "id": "82a0c256",
   "metadata": {},
   "outputs": [
    {
     "data": {
      "text/plain": [
       "135"
      ]
     },
     "execution_count": 3,
     "metadata": {},
     "output_type": "execute_result"
    }
   ],
   "source": [
    "A.sum()"
   ]
  },
  {
   "cell_type": "code",
   "execution_count": 4,
   "id": "ad5b8a81",
   "metadata": {},
   "outputs": [
    {
     "data": {
      "text/plain": [
       "array([32, 25, 31, 30, 17])"
      ]
     },
     "execution_count": 4,
     "metadata": {},
     "output_type": "execute_result"
    }
   ],
   "source": [
    "# On peut faire la somme sur les axes de notre tableau\n",
    "\n",
    "# Sommer sur l'axe vertical de notre tableau\n",
    "A.sum(axis=0)"
   ]
  },
  {
   "cell_type": "code",
   "execution_count": 5,
   "id": "f35885e1",
   "metadata": {},
   "outputs": [
    {
     "data": {
      "text/plain": [
       "array([18, 23, 30, 29, 35])"
      ]
     },
     "execution_count": 5,
     "metadata": {},
     "output_type": "execute_result"
    }
   ],
   "source": [
    "# Sommer les éléments se trouvant sur l'axe horizontal\n",
    "A.sum(axis=1)"
   ]
  },
  {
   "cell_type": "code",
   "execution_count": 6,
   "id": "d966ef27",
   "metadata": {},
   "outputs": [
    {
     "data": {
      "text/plain": [
       "array([  5,   5,   8,  11,  18,  27,  30,  35,  37,  41,  48,  54,  62,\n",
       "        70,  71,  77,  84,  91,  99, 100, 105, 114, 122, 131, 135],\n",
       "      dtype=int32)"
      ]
     },
     "execution_count": 6,
     "metadata": {},
     "output_type": "execute_result"
    }
   ],
   "source": [
    "# Faire une somme cummulée\n",
    "A.cumsum()"
   ]
  },
  {
   "cell_type": "code",
   "execution_count": 7,
   "id": "774b984a",
   "metadata": {},
   "outputs": [
    {
     "data": {
      "text/plain": [
       "array([5, 0, 3, 2, 1])"
      ]
     },
     "execution_count": 7,
     "metadata": {},
     "output_type": "execute_result"
    }
   ],
   "source": [
    "# Le minimum suivant l'axe 0\n",
    "A.min(axis=0)"
   ]
  },
  {
   "cell_type": "code",
   "execution_count": 8,
   "id": "00807e8a",
   "metadata": {},
   "outputs": [
    {
     "data": {
      "text/plain": [
       "array([0, 2, 1, 1, 4])"
      ]
     },
     "execution_count": 8,
     "metadata": {},
     "output_type": "execute_result"
    }
   ],
   "source": [
    "# Le minimum suivant l'axe 1\n",
    "A.min(axis=1)"
   ]
  },
  {
   "cell_type": "code",
   "execution_count": 9,
   "id": "71beae0e",
   "metadata": {},
   "outputs": [
    {
     "data": {
      "text/plain": [
       "array([9, 9, 8, 9, 7])"
      ]
     },
     "execution_count": 9,
     "metadata": {},
     "output_type": "execute_result"
    }
   ],
   "source": [
    "# Le maximum suivant les deux axes, 0 et 1\n",
    "A.max(axis=0)\n",
    "#A.max(axis=1)"
   ]
  },
  {
   "cell_type": "code",
   "execution_count": 10,
   "id": "a3f0c84c",
   "metadata": {},
   "outputs": [
    {
     "data": {
      "text/plain": [
       "array([0, 0, 0, 1, 2], dtype=int64)"
      ]
     },
     "execution_count": 10,
     "metadata": {},
     "output_type": "execute_result"
    }
   ],
   "source": [
    "# On peut aussi utiliser la méthode argmin() ou argmax pour trouver la position du mini ou du maxi\n",
    "A.argmin(axis=0)\n",
    "#A.argmax(axis=1)"
   ]
  },
  {
   "cell_type": "code",
   "execution_count": 11,
   "id": "e79cdf3d",
   "metadata": {},
   "outputs": [
    {
     "data": {
      "text/plain": [
       "array([[1, 2, 3, 0, 4],\n",
       "       [3, 1, 4, 2, 0],\n",
       "       [4, 1, 0, 2, 3],\n",
       "       [4, 0, 1, 2, 3],\n",
       "       [4, 0, 2, 1, 3]], dtype=int64)"
      ]
     },
     "execution_count": 11,
     "metadata": {},
     "output_type": "execute_result"
    }
   ],
   "source": [
    "# La méthode argsort(), elle retourne la façon dont il faut placer nos différents index afin de trier les éléments selon \n",
    "# l'ordre que l'on veut sans pour autant modifier le tableau initial.\n",
    "# Cette méthode est très utile pour effectuer des classements un peu plus avancé dans un tableau numpy\n",
    "A.argsort()"
   ]
  },
  {
   "cell_type": "markdown",
   "id": "85511e52",
   "metadata": {},
   "source": [
    "## Statistiques"
   ]
  },
  {
   "cell_type": "code",
   "execution_count": 12,
   "id": "a075b969",
   "metadata": {},
   "outputs": [
    {
     "data": {
      "text/plain": [
       "5.4"
      ]
     },
     "execution_count": 12,
     "metadata": {},
     "output_type": "execute_result"
    }
   ],
   "source": [
    "# Quand on a un Data set le mieux serait de faire en premier les stats\n",
    "A.mean()"
   ]
  },
  {
   "cell_type": "code",
   "execution_count": 13,
   "id": "cffac713",
   "metadata": {},
   "outputs": [
    {
     "data": {
      "text/plain": [
       "2.6683328128252666"
      ]
     },
     "execution_count": 13,
     "metadata": {},
     "output_type": "execute_result"
    }
   ],
   "source": [
    "# L'écart type\n",
    "A.std()"
   ]
  },
  {
   "cell_type": "code",
   "execution_count": 14,
   "id": "a4186f2e",
   "metadata": {},
   "outputs": [
    {
     "data": {
      "text/plain": [
       "7.12"
      ]
     },
     "execution_count": 14,
     "metadata": {},
     "output_type": "execute_result"
    }
   ],
   "source": [
    "# La variance\n",
    "A.var()"
   ]
  },
  {
   "cell_type": "code",
   "execution_count": 15,
   "id": "ee78d994",
   "metadata": {},
   "outputs": [
    {
     "data": {
      "text/plain": [
       "array([[ 1.        ,  0.39741307, -0.59190035, -0.77390599, -0.89934617],\n",
       "       [ 0.39741307,  1.        ,  0.09521171, -0.11337365, -0.59181844],\n",
       "       [-0.59190035,  0.09521171,  1.        ,  0.9579589 ,  0.6947088 ],\n",
       "       [-0.77390599, -0.11337365,  0.9579589 ,  1.        ,  0.84515425],\n",
       "       [-0.89934617, -0.59181844,  0.6947088 ,  0.84515425,  1.        ]])"
      ]
     },
     "execution_count": 15,
     "metadata": {},
     "output_type": "execute_result"
    }
   ],
   "source": [
    "# La fonction permettant de créer une matrice de corrélation \n",
    "# Comprendre les différentes corrélations que l'on a entre les colonnes, lignes ou différents tableaux\n",
    "np.corrcoef(A)"
   ]
  },
  {
   "cell_type": "code",
   "execution_count": 16,
   "id": "fc6bfa69",
   "metadata": {},
   "outputs": [
    {
     "data": {
      "text/plain": [
       "0.39741306906256163"
      ]
     },
     "execution_count": 16,
     "metadata": {},
     "output_type": "execute_result"
    }
   ],
   "source": [
    "# Voir la corrélation de la deuxieme ligne\n",
    "np.corrcoef(A)[0, 1]"
   ]
  },
  {
   "cell_type": "code",
   "execution_count": 17,
   "id": "24562f50",
   "metadata": {},
   "outputs": [
    {
     "data": {
      "text/plain": [
       "(array([0, 1, 2, 3, 4, 5, 6, 7, 8, 9]),\n",
       " array([1, 2, 1, 3, 2, 3, 2, 4, 4, 3], dtype=int64))"
      ]
     },
     "execution_count": 17,
     "metadata": {},
     "output_type": "execute_result"
    }
   ],
   "source": [
    " # Voir le nombre de fois les éléments se repetent\n",
    "np.unique(A, return_counts=True)"
   ]
  },
  {
   "cell_type": "code",
   "execution_count": 18,
   "id": "593c902b",
   "metadata": {},
   "outputs": [],
   "source": [
    "# Cette fois-ci nous allons mettre les deux tableaux dans des variables\n",
    "# values pour les valeurs et counts pour le nombre d'ocurrences de ces valeurs\n",
    "values, counts = np.unique(A, return_counts=True)"
   ]
  },
  {
   "cell_type": "code",
   "execution_count": 19,
   "id": "894e1a2e",
   "metadata": {},
   "outputs": [
    {
     "data": {
      "text/plain": [
       "array([0, 1, 2, 3, 4, 5, 6, 7, 8, 9])"
      ]
     },
     "execution_count": 19,
     "metadata": {},
     "output_type": "execute_result"
    }
   ],
   "source": [
    "values"
   ]
  },
  {
   "cell_type": "code",
   "execution_count": 21,
   "id": "18a03f46",
   "metadata": {},
   "outputs": [
    {
     "data": {
      "text/plain": [
       "array([1, 2, 1, 3, 2, 3, 2, 4, 4, 3], dtype=int64)"
      ]
     },
     "execution_count": 21,
     "metadata": {},
     "output_type": "execute_result"
    }
   ],
   "source": [
    "counts"
   ]
  },
  {
   "cell_type": "code",
   "execution_count": 22,
   "id": "2e14e1c5",
   "metadata": {},
   "outputs": [
    {
     "data": {
      "text/plain": [
       "array([0, 2, 1, 4, 6, 3, 5, 9, 7, 8])"
      ]
     },
     "execution_count": 22,
     "metadata": {},
     "output_type": "execute_result"
    }
   ],
   "source": [
    "# Afficher dans l'ordre croissant les values qui apparaissent +plusieurs fois\n",
    "values[counts.argsort()]"
   ]
  },
  {
   "cell_type": "code",
   "execution_count": 23,
   "id": "b19f9894",
   "metadata": {},
   "outputs": [
    {
     "name": "stdout",
     "output_type": "stream",
     "text": [
      "La valeur 0 apparait 1 fois\n",
      "La valeur 2 apparait 1 fois\n",
      "La valeur 1 apparait 2 fois\n",
      "La valeur 4 apparait 2 fois\n",
      "La valeur 6 apparait 2 fois\n",
      "La valeur 3 apparait 3 fois\n",
      "La valeur 5 apparait 3 fois\n",
      "La valeur 9 apparait 3 fois\n",
      "La valeur 7 apparait 4 fois\n",
      "La valeur 8 apparait 4 fois\n"
     ]
    }
   ],
   "source": [
    "# AFFICHAGE DANS UNE BOUCLE\n",
    "for i, j in zip(values[counts.argsort()], counts[counts.argsort()]):\n",
    "    print(f\"La valeur {i} apparait {j} fois\")"
   ]
  },
  {
   "cell_type": "markdown",
   "id": "8a67e59f",
   "metadata": {},
   "source": [
    "### Corrections de NaN"
   ]
  },
  {
   "cell_type": "code",
   "execution_count": 24,
   "id": "645f494d",
   "metadata": {},
   "outputs": [
    {
     "data": {
      "text/plain": [
       "array([[        nan,  0.33367433,         nan, -0.20515826,         nan],\n",
       "       [-0.85409574, -2.55298982,  0.6536186 ,  0.8644362 , -0.74216502],\n",
       "       [        nan, -1.45436567,         nan, -0.18718385,         nan],\n",
       "       [ 1.46935877,  0.15494743,  0.37816252, -0.88778575, -1.98079647],\n",
       "       [        nan,  0.15634897,         nan,  1.20237985,         nan]])"
      ]
     },
     "execution_count": 24,
     "metadata": {},
     "output_type": "execute_result"
    }
   ],
   "source": [
    "# Toutes les fonctions de stat citées ci-dessus sont à utiliser avec les nombres\n",
    "# Que faut-il faire dans le cas où l'on a des NaN\n",
    "A = np.random.randn(5, 5)\n",
    "A[::2, ::2] = np.nan\n",
    "A"
   ]
  },
  {
   "cell_type": "code",
   "execution_count": 26,
   "id": "2974bf82",
   "metadata": {},
   "outputs": [
    {
     "data": {
      "text/plain": [
       "-0.22822587031404906"
      ]
     },
     "execution_count": 26,
     "metadata": {},
     "output_type": "execute_result"
    }
   ],
   "source": [
    "# Pour remedier à ce problème avec numpy il y a quelque fonctions dispo\n",
    "# la moyenne\n",
    "np.nanmean(A)"
   ]
  },
  {
   "cell_type": "code",
   "execution_count": 27,
   "id": "292a3b03",
   "metadata": {},
   "outputs": [
    {
     "data": {
      "text/plain": [
       "1.1844173091342476"
      ]
     },
     "execution_count": 27,
     "metadata": {},
     "output_type": "execute_result"
    }
   ],
   "source": [
    "# La variance et toutes les autres fonctions stats\n",
    "np.nanvar(A)"
   ]
  },
  {
   "cell_type": "code",
   "execution_count": 30,
   "id": "668cf829",
   "metadata": {},
   "outputs": [
    {
     "data": {
      "text/plain": [
       "9"
      ]
     },
     "execution_count": 30,
     "metadata": {},
     "output_type": "execute_result"
    }
   ],
   "source": [
    "# Compter le nombre de valeurs NaN\n",
    "np.isnan(A).sum()\n",
    "# la fonction sum() va sommer toutes les ocurrences NaN"
   ]
  },
  {
   "cell_type": "code",
   "execution_count": 32,
   "id": "5842c5b9",
   "metadata": {},
   "outputs": [
    {
     "data": {
      "text/plain": [
       "0.36"
      ]
     },
     "execution_count": 32,
     "metadata": {},
     "output_type": "execute_result"
    }
   ],
   "source": [
    "# Connaître le rapport de NaN par rapport à tout l'ensemble de A\n",
    "np.isnan(A).sum()/A.size"
   ]
  },
  {
   "cell_type": "code",
   "execution_count": 33,
   "id": "d337278e",
   "metadata": {},
   "outputs": [],
   "source": [
    "# Eliminer les NaN et les remplacer avec une valeur fixe\n",
    "A[np.isnan(A)] = 0"
   ]
  },
  {
   "cell_type": "code",
   "execution_count": 34,
   "id": "a94ac1ae",
   "metadata": {},
   "outputs": [
    {
     "data": {
      "text/plain": [
       "array([[ 0.        ,  0.33367433,  0.        , -0.20515826,  0.        ],\n",
       "       [-0.85409574, -2.55298982,  0.6536186 ,  0.8644362 , -0.74216502],\n",
       "       [ 0.        , -1.45436567,  0.        , -0.18718385,  0.        ],\n",
       "       [ 1.46935877,  0.15494743,  0.37816252, -0.88778575, -1.98079647],\n",
       "       [ 0.        ,  0.15634897,  0.        ,  1.20237985,  0.        ]])"
      ]
     },
     "execution_count": 34,
     "metadata": {},
     "output_type": "execute_result"
    }
   ],
   "source": [
    "A"
   ]
  },
  {
   "cell_type": "markdown",
   "id": "6370acb4",
   "metadata": {},
   "source": [
    "## Algèbre Linéaire"
   ]
  },
  {
   "cell_type": "code",
   "execution_count": 36,
   "id": "6e165c2b",
   "metadata": {},
   "outputs": [
    {
     "data": {
      "text/plain": [
       "array([[1., 1., 1.],\n",
       "       [1., 1., 1.]])"
      ]
     },
     "execution_count": 36,
     "metadata": {},
     "output_type": "execute_result"
    }
   ],
   "source": [
    "A = np.ones((2, 3))\n",
    "B = np.ones((3, 2))\n",
    "A"
   ]
  },
  {
   "cell_type": "code",
   "execution_count": 37,
   "id": "9e9d6a0f",
   "metadata": {},
   "outputs": [
    {
     "data": {
      "text/plain": [
       "array([[1., 1.],\n",
       "       [1., 1.],\n",
       "       [1., 1.]])"
      ]
     },
     "execution_count": 37,
     "metadata": {},
     "output_type": "execute_result"
    }
   ],
   "source": [
    "B"
   ]
  },
  {
   "cell_type": "code",
   "execution_count": 38,
   "id": "a5fccb6a",
   "metadata": {},
   "outputs": [
    {
     "data": {
      "text/plain": [
       "array([[1., 1.],\n",
       "       [1., 1.],\n",
       "       [1., 1.]])"
      ]
     },
     "execution_count": 38,
     "metadata": {},
     "output_type": "execute_result"
    }
   ],
   "source": [
    "# Faire la transposée d'une matrice\n",
    "A.T"
   ]
  },
  {
   "cell_type": "code",
   "execution_count": 39,
   "id": "b1802264",
   "metadata": {},
   "outputs": [
    {
     "data": {
      "text/plain": [
       "array([[3., 3.],\n",
       "       [3., 3.]])"
      ]
     },
     "execution_count": 39,
     "metadata": {},
     "output_type": "execute_result"
    }
   ],
   "source": [
    "# Le produit matriciel de deux matrices\n",
    "A.dot(B)"
   ]
  },
  {
   "cell_type": "code",
   "execution_count": 40,
   "id": "37dab674",
   "metadata": {},
   "outputs": [
    {
     "data": {
      "text/plain": [
       "array([[2., 2., 2.],\n",
       "       [2., 2., 2.],\n",
       "       [2., 2., 2.]])"
      ]
     },
     "execution_count": 40,
     "metadata": {},
     "output_type": "execute_result"
    }
   ],
   "source": [
    "B.dot(A)"
   ]
  },
  {
   "cell_type": "code",
   "execution_count": 41,
   "id": "0a6141e8",
   "metadata": {},
   "outputs": [],
   "source": [
    "A = np.random.randint(0, 10, [3, 3])"
   ]
  },
  {
   "cell_type": "code",
   "execution_count": 43,
   "id": "c919cf41",
   "metadata": {},
   "outputs": [
    {
     "data": {
      "text/plain": [
       "23.999999999999993"
      ]
     },
     "execution_count": 43,
     "metadata": {},
     "output_type": "execute_result"
    }
   ],
   "source": [
    "# le determinant d'une matrice\n",
    "np.linalg.det(A)"
   ]
  },
  {
   "cell_type": "code",
   "execution_count": 44,
   "id": "25497071",
   "metadata": {},
   "outputs": [
    {
     "data": {
      "text/plain": [
       "array([[-0.5       ,  0.875     , -0.25      ],\n",
       "       [ 0.5       , -1.125     ,  0.75      ],\n",
       "       [-0.        ,  0.33333333, -0.33333333]])"
      ]
     },
     "execution_count": 44,
     "metadata": {},
     "output_type": "execute_result"
    }
   ],
   "source": [
    "# l'inverse d'une matrice\n",
    "np.linalg.inv(A)"
   ]
  },
  {
   "cell_type": "code",
   "execution_count": 45,
   "id": "e641aa60",
   "metadata": {},
   "outputs": [
    {
     "data": {
      "text/plain": [
       "(array([13.58872344, -3.        , -0.58872344]),\n",
       " array([[-6.70561268e-01, -8.32050294e-01,  6.04408531e-01],\n",
       "        [-5.73889829e-01, -2.53488338e-16, -7.73940635e-01],\n",
       "        [-4.70104297e-01,  5.54700196e-01,  1.88960901e-01]]))"
      ]
     },
     "execution_count": 45,
     "metadata": {},
     "output_type": "execute_result"
    }
   ],
   "source": [
    "# trouver les valeurs et vecteurs propres d'une matrice\n",
    "np.linalg.eig(A)"
   ]
  },
  {
   "cell_type": "markdown",
   "id": "b11b1cdb",
   "metadata": {},
   "source": [
    "## Exercice\n",
    "#### Standardiser la matrice A sur chaque colonne.\n",
    "#### Résultat : Chaque colonne une moyenne = 0 et l'écart type = 1"
   ]
  },
  {
   "cell_type": "markdown",
   "id": "671ededa",
   "metadata": {},
   "source": [
    "### Les techniques de standardisation\n",
    "#### 1. La normalisation par la moyenne (Mean normalization) : x' = (x - average(x) / max(x) - min(x))\n",
    "#### 2. La mise à l'échelle (Rescalling min-max normalization) :  x' = (x - min(x) / max(x) - min(x))\n",
    "#### 3. La standardisation - Satandardization (Z-score Normalisation). Cette technique est la plus utilisée en Machine Learning : x' = x - moyenne / ecartype(x)"
   ]
  },
  {
   "cell_type": "code",
   "execution_count": 47,
   "id": "192fdc40",
   "metadata": {},
   "outputs": [
    {
     "data": {
      "text/plain": [
       "array([[44, 47, 64, 67, 67],\n",
       "       [ 9, 83, 21, 36, 87],\n",
       "       [70, 88, 88, 12, 58],\n",
       "       [65, 39, 87, 46, 88],\n",
       "       [81, 37, 25, 77, 72],\n",
       "       [ 9, 20, 80, 69, 79],\n",
       "       [47, 64, 82, 99, 88],\n",
       "       [49, 29, 19, 19, 14],\n",
       "       [39, 32, 65,  9, 57],\n",
       "       [32, 31, 74, 23, 35]])"
      ]
     },
     "execution_count": 47,
     "metadata": {},
     "output_type": "execute_result"
    }
   ],
   "source": [
    "np.random.seed(0)\n",
    "A = np.random.randint(0, 100, [10, 5])\n",
    "A"
   ]
  },
  {
   "cell_type": "code",
   "execution_count": 80,
   "id": "76b80053",
   "metadata": {},
   "outputs": [
    {
     "data": {
      "text/plain": [
       "array([[-0.02206157,  0.        ,  0.13173823,  0.72539252,  0.10755798],\n",
       "       [-1.56637126,  1.61579632, -1.48676006, -0.33034307,  0.96802178],\n",
       "       [ 1.12513992,  1.84021247,  1.03508612, -1.14768676, -0.27965074],\n",
       "       [ 0.90452425, -0.35906585,  0.99744662,  0.0102168 ,  1.01104497],\n",
       "       [ 1.6104944 , -0.44883231, -1.33620208,  1.0659524 ,  0.32267393],\n",
       "       [-1.56637126, -1.21184724,  0.73397016,  0.7935045 ,  0.62383626],\n",
       "       [ 0.11030784,  0.76301493,  0.80924915,  1.81518411,  1.01104497],\n",
       "       [ 0.1985541 , -0.80789816, -1.56203905, -0.90929485, -2.17267111],\n",
       "       [-0.24267724, -0.67324847,  0.16937773, -1.24985473, -0.32267393],\n",
       "       [-0.55153918, -0.7181317 ,  0.50813319, -0.77307091, -1.26918412]])"
      ]
     },
     "execution_count": 80,
     "metadata": {},
     "output_type": "execute_result"
    }
   ],
   "source": [
    "X = (A - A.mean(axis=0)) / A.std(axis=0)\n",
    "X"
   ]
  },
  {
   "cell_type": "code",
   "execution_count": 82,
   "id": "1d50aeb3",
   "metadata": {},
   "outputs": [
    {
     "data": {
      "text/plain": [
       "array([-2.22044605e-17, -4.44089210e-17,  0.00000000e+00, -1.22124533e-16,\n",
       "       -4.44089210e-17])"
      ]
     },
     "execution_count": 82,
     "metadata": {},
     "output_type": "execute_result"
    }
   ],
   "source": [
    "# La moyenne de chaque colonne tend vers 0\n",
    "X.mean(axis=0)"
   ]
  },
  {
   "cell_type": "code",
   "execution_count": 83,
   "id": "d0d3fe7e",
   "metadata": {},
   "outputs": [
    {
     "data": {
      "text/plain": [
       "array([1., 1., 1., 1., 1.])"
      ]
     },
     "execution_count": 83,
     "metadata": {},
     "output_type": "execute_result"
    }
   ],
   "source": [
    "# L'écart-type de chque colonne est égal à 1\n",
    "X.std(axis=0)"
   ]
  },
  {
   "cell_type": "markdown",
   "id": "b9b79b91",
   "metadata": {},
   "source": [
    "#### Une autre méthode de résoudre cet exercice : créer une fonction de standardisation"
   ]
  },
  {
   "cell_type": "code",
   "execution_count": 84,
   "id": "b02a322d",
   "metadata": {},
   "outputs": [],
   "source": [
    "# La fonction de standardisation utilisant la technique de standardisation\n",
    "def standardisation(A):\n",
    "    \n",
    "    # Standardisee colonne par colonne\n",
    "    moy_col = A.mean(axis=0)\n",
    "    # Ecart-type par colonne\n",
    "    ecar_col = A.std(axis=0)\n",
    "    \n",
    "    return (A - moy_col)/ecar_col"
   ]
  },
  {
   "cell_type": "code",
   "execution_count": 85,
   "id": "4f589e2d",
   "metadata": {},
   "outputs": [
    {
     "data": {
      "text/plain": [
       "array([[-0.02206157,  0.        ,  0.13173823,  0.72539252,  0.10755798],\n",
       "       [-1.56637126,  1.61579632, -1.48676006, -0.33034307,  0.96802178],\n",
       "       [ 1.12513992,  1.84021247,  1.03508612, -1.14768676, -0.27965074],\n",
       "       [ 0.90452425, -0.35906585,  0.99744662,  0.0102168 ,  1.01104497],\n",
       "       [ 1.6104944 , -0.44883231, -1.33620208,  1.0659524 ,  0.32267393],\n",
       "       [-1.56637126, -1.21184724,  0.73397016,  0.7935045 ,  0.62383626],\n",
       "       [ 0.11030784,  0.76301493,  0.80924915,  1.81518411,  1.01104497],\n",
       "       [ 0.1985541 , -0.80789816, -1.56203905, -0.90929485, -2.17267111],\n",
       "       [-0.24267724, -0.67324847,  0.16937773, -1.24985473, -0.32267393],\n",
       "       [-0.55153918, -0.7181317 ,  0.50813319, -0.77307091, -1.26918412]])"
      ]
     },
     "execution_count": 85,
     "metadata": {},
     "output_type": "execute_result"
    }
   ],
   "source": [
    "standardisation(A)"
   ]
  },
  {
   "cell_type": "markdown",
   "id": "430862c7",
   "metadata": {},
   "source": [
    "## Broadcasting\n",
    "### NB :  Cette technique fonctionne uniquement si les tableaux ont le même nombre de lignes ou la différence est de 1"
   ]
  },
  {
   "cell_type": "code",
   "execution_count": 72,
   "id": "7a918c61",
   "metadata": {},
   "outputs": [],
   "source": [
    "np.random.seed(0)\n",
    "B = np.random.randint(0, 10, [2, 3])\n",
    "C = np.ones((2, 3))"
   ]
  },
  {
   "cell_type": "code",
   "execution_count": 73,
   "id": "dd95ca29",
   "metadata": {},
   "outputs": [
    {
     "data": {
      "text/plain": [
       "array([[5, 0, 3],\n",
       "       [3, 7, 9]])"
      ]
     },
     "execution_count": 73,
     "metadata": {},
     "output_type": "execute_result"
    }
   ],
   "source": [
    "B"
   ]
  },
  {
   "cell_type": "code",
   "execution_count": 74,
   "id": "b2a38ae6",
   "metadata": {},
   "outputs": [
    {
     "data": {
      "text/plain": [
       "array([[1., 1., 1.],\n",
       "       [1., 1., 1.]])"
      ]
     },
     "execution_count": 74,
     "metadata": {},
     "output_type": "execute_result"
    }
   ],
   "source": [
    "C"
   ]
  },
  {
   "cell_type": "code",
   "execution_count": 75,
   "id": "e3ba57fa",
   "metadata": {},
   "outputs": [
    {
     "data": {
      "text/plain": [
       "array([[ 6.,  1.,  4.],\n",
       "       [ 4.,  8., 10.]])"
      ]
     },
     "execution_count": 75,
     "metadata": {},
     "output_type": "execute_result"
    }
   ],
   "source": [
    "# Différent avec les langages C/C++, les fonctions d'itérations ont déjà été créées\n",
    "B + C"
   ]
  },
  {
   "cell_type": "code",
   "execution_count": 76,
   "id": "d581362a",
   "metadata": {},
   "outputs": [],
   "source": [
    "D = np.ones((2, 1))"
   ]
  },
  {
   "cell_type": "code",
   "execution_count": 78,
   "id": "9029f4d5",
   "metadata": {},
   "outputs": [
    {
     "data": {
      "text/plain": [
       "array([[ 6.,  1.,  4.],\n",
       "       [ 4.,  8., 10.]])"
      ]
     },
     "execution_count": 78,
     "metadata": {},
     "output_type": "execute_result"
    }
   ],
   "source": [
    "# Même nombre de lignes mais des colonnes différentes\n",
    "B + D"
   ]
  },
  {
   "cell_type": "code",
   "execution_count": null,
   "id": "5f9e53f8",
   "metadata": {},
   "outputs": [],
   "source": []
  }
 ],
 "metadata": {
  "kernelspec": {
   "display_name": "Python 3 (ipykernel)",
   "language": "python",
   "name": "python3"
  },
  "language_info": {
   "codemirror_mode": {
    "name": "ipython",
    "version": 3
   },
   "file_extension": ".py",
   "mimetype": "text/x-python",
   "name": "python",
   "nbconvert_exporter": "python",
   "pygments_lexer": "ipython3",
   "version": "3.8.12"
  }
 },
 "nbformat": 4,
 "nbformat_minor": 5
}
